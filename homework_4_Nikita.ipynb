{
  "nbformat": 4,
  "nbformat_minor": 0,
  "metadata": {
    "kernelspec": {
      "display_name": "Python 3.8.2 64-bit ('main': conda)",
      "language": "python",
      "name": "python38264bitmainconda496cadcf43ce49cd8fcdfb395c00155f"
    },
    "language_info": {
      "codemirror_mode": {
        "name": "ipython",
        "version": 3
      },
      "file_extension": ".py",
      "mimetype": "text/x-python",
      "name": "python",
      "nbconvert_exporter": "python",
      "pygments_lexer": "ipython3",
      "version": "3.8.2"
    },
    "colab": {
      "name": "homework_4.ipynb",
      "provenance": [],
      "include_colab_link": true
    },
    "widgets": {
      "application/vnd.jupyter.widget-state+json": {
        "fb2df62307a84f9ea40dd33f00f7ef22": {
          "model_module": "@jupyter-widgets/controls",
          "model_name": "HBoxModel",
          "state": {
            "_view_name": "HBoxView",
            "_dom_classes": [],
            "_model_name": "HBoxModel",
            "_view_module": "@jupyter-widgets/controls",
            "_model_module_version": "1.5.0",
            "_view_count": null,
            "_view_module_version": "1.5.0",
            "box_style": "",
            "layout": "IPY_MODEL_7149b4e9d1c04a6eb9db219389c2a012",
            "_model_module": "@jupyter-widgets/controls",
            "children": [
              "IPY_MODEL_3d086916649c41e09360ad26d4622106",
              "IPY_MODEL_85495cb9c93c4b49be72d741e69a3332"
            ]
          }
        },
        "7149b4e9d1c04a6eb9db219389c2a012": {
          "model_module": "@jupyter-widgets/base",
          "model_name": "LayoutModel",
          "state": {
            "_view_name": "LayoutView",
            "grid_template_rows": null,
            "right": null,
            "justify_content": null,
            "_view_module": "@jupyter-widgets/base",
            "overflow": null,
            "_model_module_version": "1.2.0",
            "_view_count": null,
            "flex_flow": null,
            "width": null,
            "min_width": null,
            "border": null,
            "align_items": null,
            "bottom": null,
            "_model_module": "@jupyter-widgets/base",
            "top": null,
            "grid_column": null,
            "overflow_y": null,
            "overflow_x": null,
            "grid_auto_flow": null,
            "grid_area": null,
            "grid_template_columns": null,
            "flex": null,
            "_model_name": "LayoutModel",
            "justify_items": null,
            "grid_row": null,
            "max_height": null,
            "align_content": null,
            "visibility": null,
            "align_self": null,
            "height": null,
            "min_height": null,
            "padding": null,
            "grid_auto_rows": null,
            "grid_gap": null,
            "max_width": null,
            "order": null,
            "_view_module_version": "1.2.0",
            "grid_template_areas": null,
            "object_position": null,
            "object_fit": null,
            "grid_auto_columns": null,
            "margin": null,
            "display": null,
            "left": null
          }
        },
        "3d086916649c41e09360ad26d4622106": {
          "model_module": "@jupyter-widgets/controls",
          "model_name": "FloatProgressModel",
          "state": {
            "_view_name": "ProgressView",
            "style": "IPY_MODEL_f1b85e658a8a478885e3f5a9c244bae6",
            "_dom_classes": [],
            "description": "100%",
            "_model_name": "FloatProgressModel",
            "bar_style": "success",
            "max": 64,
            "_view_module": "@jupyter-widgets/controls",
            "_model_module_version": "1.5.0",
            "value": 64,
            "_view_count": null,
            "_view_module_version": "1.5.0",
            "orientation": "horizontal",
            "min": 0,
            "description_tooltip": null,
            "_model_module": "@jupyter-widgets/controls",
            "layout": "IPY_MODEL_bc87d1ca9f3741fcb29d2e6e484aa256"
          }
        },
        "85495cb9c93c4b49be72d741e69a3332": {
          "model_module": "@jupyter-widgets/controls",
          "model_name": "HTMLModel",
          "state": {
            "_view_name": "HTMLView",
            "style": "IPY_MODEL_8c8052baa70c4ce0b1dcc226014eb240",
            "_dom_classes": [],
            "description": "",
            "_model_name": "HTMLModel",
            "placeholder": "​",
            "_view_module": "@jupyter-widgets/controls",
            "_model_module_version": "1.5.0",
            "value": " 64/64 [00:03&lt;00:00, 17.63it/s]",
            "_view_count": null,
            "_view_module_version": "1.5.0",
            "description_tooltip": null,
            "_model_module": "@jupyter-widgets/controls",
            "layout": "IPY_MODEL_b141daba60b144dd95c019e4860e3842"
          }
        },
        "f1b85e658a8a478885e3f5a9c244bae6": {
          "model_module": "@jupyter-widgets/controls",
          "model_name": "ProgressStyleModel",
          "state": {
            "_view_name": "StyleView",
            "_model_name": "ProgressStyleModel",
            "description_width": "initial",
            "_view_module": "@jupyter-widgets/base",
            "_model_module_version": "1.5.0",
            "_view_count": null,
            "_view_module_version": "1.2.0",
            "bar_color": null,
            "_model_module": "@jupyter-widgets/controls"
          }
        },
        "bc87d1ca9f3741fcb29d2e6e484aa256": {
          "model_module": "@jupyter-widgets/base",
          "model_name": "LayoutModel",
          "state": {
            "_view_name": "LayoutView",
            "grid_template_rows": null,
            "right": null,
            "justify_content": null,
            "_view_module": "@jupyter-widgets/base",
            "overflow": null,
            "_model_module_version": "1.2.0",
            "_view_count": null,
            "flex_flow": null,
            "width": null,
            "min_width": null,
            "border": null,
            "align_items": null,
            "bottom": null,
            "_model_module": "@jupyter-widgets/base",
            "top": null,
            "grid_column": null,
            "overflow_y": null,
            "overflow_x": null,
            "grid_auto_flow": null,
            "grid_area": null,
            "grid_template_columns": null,
            "flex": null,
            "_model_name": "LayoutModel",
            "justify_items": null,
            "grid_row": null,
            "max_height": null,
            "align_content": null,
            "visibility": null,
            "align_self": null,
            "height": null,
            "min_height": null,
            "padding": null,
            "grid_auto_rows": null,
            "grid_gap": null,
            "max_width": null,
            "order": null,
            "_view_module_version": "1.2.0",
            "grid_template_areas": null,
            "object_position": null,
            "object_fit": null,
            "grid_auto_columns": null,
            "margin": null,
            "display": null,
            "left": null
          }
        },
        "8c8052baa70c4ce0b1dcc226014eb240": {
          "model_module": "@jupyter-widgets/controls",
          "model_name": "DescriptionStyleModel",
          "state": {
            "_view_name": "StyleView",
            "_model_name": "DescriptionStyleModel",
            "description_width": "",
            "_view_module": "@jupyter-widgets/base",
            "_model_module_version": "1.5.0",
            "_view_count": null,
            "_view_module_version": "1.2.0",
            "_model_module": "@jupyter-widgets/controls"
          }
        },
        "b141daba60b144dd95c019e4860e3842": {
          "model_module": "@jupyter-widgets/base",
          "model_name": "LayoutModel",
          "state": {
            "_view_name": "LayoutView",
            "grid_template_rows": null,
            "right": null,
            "justify_content": null,
            "_view_module": "@jupyter-widgets/base",
            "overflow": null,
            "_model_module_version": "1.2.0",
            "_view_count": null,
            "flex_flow": null,
            "width": null,
            "min_width": null,
            "border": null,
            "align_items": null,
            "bottom": null,
            "_model_module": "@jupyter-widgets/base",
            "top": null,
            "grid_column": null,
            "overflow_y": null,
            "overflow_x": null,
            "grid_auto_flow": null,
            "grid_area": null,
            "grid_template_columns": null,
            "flex": null,
            "_model_name": "LayoutModel",
            "justify_items": null,
            "grid_row": null,
            "max_height": null,
            "align_content": null,
            "visibility": null,
            "align_self": null,
            "height": null,
            "min_height": null,
            "padding": null,
            "grid_auto_rows": null,
            "grid_gap": null,
            "max_width": null,
            "order": null,
            "_view_module_version": "1.2.0",
            "grid_template_areas": null,
            "object_position": null,
            "object_fit": null,
            "grid_auto_columns": null,
            "margin": null,
            "display": null,
            "left": null
          }
        }
      }
    }
  },
  "cells": [
    {
      "cell_type": "markdown",
      "metadata": {
        "id": "view-in-github",
        "colab_type": "text"
      },
      "source": [
        "<a href=\"https://colab.research.google.com/github/NJain121442/course2020/blob/master/homework_4_Nikita.ipynb\" target=\"_parent\"><img src=\"https://colab.research.google.com/assets/colab-badge.svg\" alt=\"Open In Colab\"/></a>"
      ]
    },
    {
      "cell_type": "code",
      "metadata": {
        "id": "5A2bJ4vCjAp5",
        "colab_type": "code",
        "colab": {
          "base_uri": "https://localhost:8080/",
          "height": 280
        },
        "outputId": "a88b3438-e704-4a32-8810-570807e9e809"
      },
      "source": [
        "pip install dgl"
      ],
      "execution_count": 2,
      "outputs": [
        {
          "output_type": "stream",
          "text": [
            "Collecting dgl\n",
            "\u001b[?25l  Downloading https://files.pythonhosted.org/packages/c5/b4/84e4ebd70ef3985181ef5d2d2a366a45af0e3cd18d249fb212ac03f683cf/dgl-0.4.3.post2-cp36-cp36m-manylinux1_x86_64.whl (3.0MB)\n",
            "\u001b[K     |████████████████████████████████| 3.0MB 4.5MB/s \n",
            "\u001b[?25hRequirement already satisfied: networkx>=2.1 in /usr/local/lib/python3.6/dist-packages (from dgl) (2.4)\n",
            "Requirement already satisfied: numpy>=1.14.0 in /usr/local/lib/python3.6/dist-packages (from dgl) (1.18.5)\n",
            "Requirement already satisfied: requests>=2.19.0 in /usr/local/lib/python3.6/dist-packages (from dgl) (2.23.0)\n",
            "Requirement already satisfied: scipy>=1.1.0 in /usr/local/lib/python3.6/dist-packages (from dgl) (1.4.1)\n",
            "Requirement already satisfied: decorator>=4.3.0 in /usr/local/lib/python3.6/dist-packages (from networkx>=2.1->dgl) (4.4.2)\n",
            "Requirement already satisfied: idna<3,>=2.5 in /usr/local/lib/python3.6/dist-packages (from requests>=2.19.0->dgl) (2.9)\n",
            "Requirement already satisfied: certifi>=2017.4.17 in /usr/local/lib/python3.6/dist-packages (from requests>=2.19.0->dgl) (2020.6.20)\n",
            "Requirement already satisfied: urllib3!=1.25.0,!=1.25.1,<1.26,>=1.21.1 in /usr/local/lib/python3.6/dist-packages (from requests>=2.19.0->dgl) (1.24.3)\n",
            "Requirement already satisfied: chardet<4,>=3.0.2 in /usr/local/lib/python3.6/dist-packages (from requests>=2.19.0->dgl) (3.0.4)\n",
            "Installing collected packages: dgl\n",
            "Successfully installed dgl-0.4.3.post2\n"
          ],
          "name": "stdout"
        }
      ]
    },
    {
      "cell_type": "code",
      "metadata": {
        "id": "P9x0goaEh5CP",
        "colab_type": "code",
        "colab": {
          "base_uri": "https://localhost:8080/",
          "height": 89
        },
        "outputId": "ac3de388-ca49-4125-dad3-8e95b5415700"
      },
      "source": [
        "import dgl\n",
        "import dgl.function as fn\n",
        "import torch\n",
        "import torch.nn as nn\n",
        "import torch.nn.functional as F\n",
        "from dgl import DGLGraph\n",
        "from torch.utils.data import Dataset, DataLoader\n",
        "import glob\n",
        "import json\n",
        "from tqdm.notebook import tqdm\n",
        "import torch.optim as optim\n",
        "import numpy as np\n",
        "import networkx as nx"
      ],
      "execution_count": 3,
      "outputs": [
        {
          "output_type": "stream",
          "text": [
            "DGL backend not selected or invalid.  Assuming PyTorch for now.\n",
            "Using backend: pytorch\n"
          ],
          "name": "stderr"
        },
        {
          "output_type": "stream",
          "text": [
            "Setting the default backend to \"pytorch\". You can change it in the ~/.dgl/config.json file or export the DGLBACKEND environment variable.  Valid options are: pytorch, mxnet, tensorflow (all lowercase)\n"
          ],
          "name": "stdout"
        }
      ]
    },
    {
      "cell_type": "markdown",
      "metadata": {
        "id": "xztejo7Gh5Cr",
        "colab_type": "text"
      },
      "source": [
        "## Homework 4 - Generative Models of graphs\n",
        "\n",
        "first lets introduce our dataset, the \"flower graphs\" dataset\n"
      ]
    },
    {
      "cell_type": "code",
      "metadata": {
        "id": "Zdgou4HVh5Cz",
        "colab_type": "code",
        "colab": {}
      },
      "source": [
        "class CustomDataset(Dataset):\n",
        "    def __init__(self, path):\n",
        "        \n",
        "\n",
        "        filelist = glob.glob(path+'/*.json')\n",
        "        \n",
        "        self.graphs = []\n",
        "        for fname in tqdm(filelist):\n",
        "            with open(fname) as jfile:\n",
        "                graph = nx.node_link_graph(json.load(jfile))\n",
        "                g = dgl.DGLGraph()\n",
        "                g.from_networkx(graph)\n",
        "                \n",
        "                self.graphs.append(g)\n",
        "        \n",
        "        \n",
        "    def __len__(self):\n",
        "       \n",
        "        return len(self.graphs)\n",
        "\n",
        "\n",
        "    def __getitem__(self, idx):\n",
        "        \n",
        "    \n",
        "        return self.graphs[idx]"
      ],
      "execution_count": 4,
      "outputs": []
    },
    {
      "cell_type": "code",
      "metadata": {
        "id": "YiNQWrrMjMUC",
        "colab_type": "code",
        "colab": {
          "base_uri": "https://localhost:8080/",
          "height": 453
        },
        "outputId": "08d28925-a420-4f1e-e31d-2c461446975c"
      },
      "source": [
        "!wget -O flower_graphs.zip  https://www.dropbox.com/s/fnu6t4s6g5w0fal/flower_graphs.zip?dl=0"
      ],
      "execution_count": 7,
      "outputs": [
        {
          "output_type": "stream",
          "text": [
            "--2020-07-04 17:15:17--  https://www.dropbox.com/s/fnu6t4s6g5w0fal/flower_graphs.zip?dl=0\n",
            "Resolving www.dropbox.com (www.dropbox.com)... 162.125.65.1, 2620:100:6021:1::a27d:4101\n",
            "Connecting to www.dropbox.com (www.dropbox.com)|162.125.65.1|:443... connected.\n",
            "HTTP request sent, awaiting response... 301 Moved Permanently\n",
            "Location: /s/raw/fnu6t4s6g5w0fal/flower_graphs.zip [following]\n",
            "--2020-07-04 17:15:17--  https://www.dropbox.com/s/raw/fnu6t4s6g5w0fal/flower_graphs.zip\n",
            "Reusing existing connection to www.dropbox.com:443.\n",
            "HTTP request sent, awaiting response... 302 Found\n",
            "Location: https://uc23356ed0f2819afa49501afe4e.dl.dropboxusercontent.com/cd/0/inline/A64U56BLIu_yrk0qsZPvgh5Vni3oP4KEJka99vY6UtOQNzsOG_eyv5P9PlAjGOfS3nKR-kWXPSXzmxgMMdfjm0j_hKUajhXIOAvwyPQzZIxxWtU3Sauj1LepSdlsEkB71jU/file# [following]\n",
            "--2020-07-04 17:15:18--  https://uc23356ed0f2819afa49501afe4e.dl.dropboxusercontent.com/cd/0/inline/A64U56BLIu_yrk0qsZPvgh5Vni3oP4KEJka99vY6UtOQNzsOG_eyv5P9PlAjGOfS3nKR-kWXPSXzmxgMMdfjm0j_hKUajhXIOAvwyPQzZIxxWtU3Sauj1LepSdlsEkB71jU/file\n",
            "Resolving uc23356ed0f2819afa49501afe4e.dl.dropboxusercontent.com (uc23356ed0f2819afa49501afe4e.dl.dropboxusercontent.com)... 162.125.65.15, 2620:100:6021:15::a27d:410f\n",
            "Connecting to uc23356ed0f2819afa49501afe4e.dl.dropboxusercontent.com (uc23356ed0f2819afa49501afe4e.dl.dropboxusercontent.com)|162.125.65.15|:443... connected.\n",
            "HTTP request sent, awaiting response... 302 Found\n",
            "Location: /cd/0/inline2/A65rFSt44ZyUH4vlo8DLHaJC1SdpK0qEAzIItCxHXcyJ6Y7N7um5aO0EskAYFyAuAyEdx57dCwPzrJ8OcfduwIPkUqQStBVWWMj2A4Yh_AtxvWV8B_dVTiCVKUDAibzrB8-iuedXc6fj88rrK3TV_W8v8rcAOmeRdsgvO_RCIVe7Pg0C-FdgDgqH080FuAf6dx0LzKCGIL9uyriiUOjTskXj6Gy9P1sgtFQGp8vKqYppdypWacLmdzUBA-UisfGVF1xn1iT1Y45Ggi9f2sDphi-h4uGa9wS36nla9r6o92vWOKHFtRpohb3A_JeIwNvZK_TvzFRk8nKyn7Ac_Y2XHeRCelOZVbf5Uo4TmxGIU67mog/file [following]\n",
            "--2020-07-04 17:15:18--  https://uc23356ed0f2819afa49501afe4e.dl.dropboxusercontent.com/cd/0/inline2/A65rFSt44ZyUH4vlo8DLHaJC1SdpK0qEAzIItCxHXcyJ6Y7N7um5aO0EskAYFyAuAyEdx57dCwPzrJ8OcfduwIPkUqQStBVWWMj2A4Yh_AtxvWV8B_dVTiCVKUDAibzrB8-iuedXc6fj88rrK3TV_W8v8rcAOmeRdsgvO_RCIVe7Pg0C-FdgDgqH080FuAf6dx0LzKCGIL9uyriiUOjTskXj6Gy9P1sgtFQGp8vKqYppdypWacLmdzUBA-UisfGVF1xn1iT1Y45Ggi9f2sDphi-h4uGa9wS36nla9r6o92vWOKHFtRpohb3A_JeIwNvZK_TvzFRk8nKyn7Ac_Y2XHeRCelOZVbf5Uo4TmxGIU67mog/file\n",
            "Reusing existing connection to uc23356ed0f2819afa49501afe4e.dl.dropboxusercontent.com:443.\n",
            "HTTP request sent, awaiting response... 200 OK\n",
            "Length: 22506 (22K) [application/zip]\n",
            "Saving to: ‘flower_graphs.zip’\n",
            "\n",
            "flower_graphs.zip   100%[===================>]  21.98K  --.-KB/s    in 0.004s  \n",
            "\n",
            "2020-07-04 17:15:19 (5.61 MB/s) - ‘flower_graphs.zip’ saved [22506/22506]\n",
            "\n"
          ],
          "name": "stdout"
        }
      ]
    },
    {
      "cell_type": "code",
      "metadata": {
        "id": "snjf2wOy0y0C",
        "colab_type": "code",
        "colab": {
          "base_uri": "https://localhost:8080/",
          "height": 1000
        },
        "outputId": "da78a3cc-11ca-4528-cec2-4070cca8cbea"
      },
      "source": [
        "!unzip /content/flower_graphs.zip -d /content"
      ],
      "execution_count": 9,
      "outputs": [
        {
          "output_type": "stream",
          "text": [
            "Archive:  /content/flower_graphs.zip\n",
            "  inflating: /content/flower_graphs/graph_54.json  \n",
            "  inflating: /content/flower_graphs/graph_42.json  \n",
            "  inflating: /content/flower_graphs/graph_15.json  \n",
            "  inflating: /content/flower_graphs/graph_39.json  \n",
            "  inflating: /content/flower_graphs/graph_58.json  \n",
            "  inflating: /content/flower_graphs/graph_19.json  \n",
            "  inflating: /content/flower_graphs/graph_62.json  \n",
            "  inflating: /content/flower_graphs/graph_35.json  \n",
            "  inflating: /content/flower_graphs/graph_23.json  \n",
            "  inflating: /content/flower_graphs/graph_7.json  \n",
            "  inflating: /content/flower_graphs/graph_22.json  \n",
            "  inflating: /content/flower_graphs/graph_6.json  \n",
            "  inflating: /content/flower_graphs/graph_34.json  \n",
            "  inflating: /content/flower_graphs/.DS_Store  \n",
            "  inflating: /content/__MACOSX/flower_graphs/._.DS_Store  \n",
            "  inflating: /content/flower_graphs/graph_63.json  \n",
            "  inflating: /content/flower_graphs/graph_18.json  \n",
            "  inflating: /content/flower_graphs/graph_59.json  \n",
            "  inflating: /content/flower_graphs/graph_38.json  \n",
            "  inflating: /content/flower_graphs/graph_14.json  \n",
            "  inflating: /content/flower_graphs/graph_43.json  \n",
            "  inflating: /content/flower_graphs/graph_55.json  \n",
            "  inflating: /content/flower_graphs/graph_48.json  \n",
            "  inflating: /content/flower_graphs/graph_33.json  \n",
            "  inflating: /content/flower_graphs/graph_25.json  \n",
            "  inflating: /content/flower_graphs/graph_1.json  \n",
            "  inflating: /content/flower_graphs/graph_52.json  \n",
            "  inflating: /content/flower_graphs/graph_44.json  \n",
            "  inflating: /content/flower_graphs/graph_13.json  \n",
            "  inflating: /content/flower_graphs/graph_29.json  \n",
            "  inflating: /content/flower_graphs/graph_28.json  \n",
            "  inflating: /content/flower_graphs/graph_12.json  \n",
            "  inflating: /content/flower_graphs/graph_45.json  \n",
            "  inflating: /content/flower_graphs/graph_53.json  \n",
            "  inflating: /content/flower_graphs/graph_24.json  \n",
            "  inflating: /content/flower_graphs/graph_0.json  \n",
            "  inflating: /content/flower_graphs/graph_32.json  \n",
            "  inflating: /content/flower_graphs/graph_49.json  \n",
            "  inflating: /content/flower_graphs/graph_3.json  \n",
            "  inflating: /content/flower_graphs/graph_27.json  \n",
            "  inflating: /content/flower_graphs/graph_31.json  \n",
            "  inflating: /content/flower_graphs/graph_11.json  \n",
            "  inflating: /content/flower_graphs/graph_46.json  \n",
            "  inflating: /content/flower_graphs/graph_50.json  \n",
            "  inflating: /content/flower_graphs/graph_51.json  \n",
            "  inflating: /content/flower_graphs/graph_47.json  \n",
            "  inflating: /content/flower_graphs/graph_10.json  \n",
            "  inflating: /content/flower_graphs/graph_30.json  \n",
            "  inflating: /content/flower_graphs/graph_2.json  \n",
            "  inflating: /content/flower_graphs/graph_26.json  \n",
            "  inflating: /content/flower_graphs/graph_9.json  \n",
            "  inflating: /content/flower_graphs/graph_17.json  \n",
            "  inflating: /content/flower_graphs/graph_40.json  \n",
            "  inflating: /content/flower_graphs/graph_56.json  \n",
            "  inflating: /content/flower_graphs/graph_5.json  \n",
            "  inflating: /content/flower_graphs/graph_21.json  \n",
            "  inflating: /content/flower_graphs/graph_37.json  \n",
            "  inflating: /content/flower_graphs/graph_60.json  \n",
            "  inflating: /content/flower_graphs/graph_61.json  \n",
            "  inflating: /content/flower_graphs/graph_36.json  \n",
            "  inflating: /content/flower_graphs/graph_4.json  \n",
            "  inflating: /content/flower_graphs/graph_20.json  \n",
            "  inflating: /content/flower_graphs/graph_57.json  \n",
            "  inflating: /content/flower_graphs/graph_41.json  \n",
            "  inflating: /content/flower_graphs/graph_16.json  \n",
            "  inflating: /content/flower_graphs/graph_8.json  \n"
          ],
          "name": "stdout"
        }
      ]
    },
    {
      "cell_type": "code",
      "metadata": {
        "id": "70fzTyPMh5DE",
        "colab_type": "code",
        "colab": {
          "base_uri": "https://localhost:8080/",
          "height": 67,
          "referenced_widgets": [
            "fb2df62307a84f9ea40dd33f00f7ef22",
            "7149b4e9d1c04a6eb9db219389c2a012",
            "3d086916649c41e09360ad26d4622106",
            "85495cb9c93c4b49be72d741e69a3332",
            "f1b85e658a8a478885e3f5a9c244bae6",
            "bc87d1ca9f3741fcb29d2e6e484aa256",
            "8c8052baa70c4ce0b1dcc226014eb240",
            "b141daba60b144dd95c019e4860e3842"
          ]
        },
        "outputId": "bb23ade2-0906-43e0-c018-fba90c40f71c"
      },
      "source": [
        "graph_ds = CustomDataset('/content/flower_graphs/')"
      ],
      "execution_count": 10,
      "outputs": [
        {
          "output_type": "display_data",
          "data": {
            "application/vnd.jupyter.widget-view+json": {
              "model_id": "fb2df62307a84f9ea40dd33f00f7ef22",
              "version_minor": 0,
              "version_major": 2
            },
            "text/plain": [
              "HBox(children=(FloatProgress(value=0.0, max=64.0), HTML(value='')))"
            ]
          },
          "metadata": {
            "tags": []
          }
        },
        {
          "output_type": "stream",
          "text": [
            "\n"
          ],
          "name": "stdout"
        }
      ]
    },
    {
      "cell_type": "markdown",
      "metadata": {
        "id": "WoF7cFheh5De",
        "colab_type": "text"
      },
      "source": [
        "Its a pretty simple dataset, just an \"inner circle\" plus some short arms,\n",
        "no node features or edge features"
      ]
    },
    {
      "cell_type": "code",
      "metadata": {
        "id": "YLuQrOCT1ybE",
        "colab_type": "code",
        "colab": {}
      },
      "source": [
        "import matplotlib.pyplot as plt"
      ],
      "execution_count": 12,
      "outputs": []
    },
    {
      "cell_type": "code",
      "metadata": {
        "id": "Vin57eAZh5Dh",
        "colab_type": "code",
        "colab": {
          "base_uri": "https://localhost:8080/",
          "height": 641
        },
        "outputId": "79e7bed4-485f-4283-c6ba-f3a806742302"
      },
      "source": [
        "N = 6\n",
        "\n",
        "fig,ax = plt.subplots(N,N,figsize=(8,8),dpi=100)\n",
        "\n",
        "\n",
        "idxs = np.random.permutation(np.arange(len(graph_ds)))\n",
        "\n",
        "for i in range(N):\n",
        "    for j in range(N):\n",
        "        idx = idxs[i*N+j]\n",
        "        nx.draw( graph_ds[idx].to_networkx() ,ax=ax[i][j],node_size=5,arrows=False)\n",
        "\n",
        "plt.show()"
      ],
      "execution_count": 13,
      "outputs": [
        {
          "output_type": "display_data",
          "data": {
            "image/png": "[encoded data removed]",
            "text/plain": [
              "<Figure size 800x800 with 36 Axes>"
            ]
          },
          "metadata": {
            "tags": []
          }
        }
      ]
    },
    {
      "cell_type": "markdown",
      "metadata": {
        "id": "qSw-XxM6h5D5",
        "colab_type": "text"
      },
      "source": [
        "## your goal is to train a network that will generate graphs like these"
      ]
    },
    {
      "cell_type": "markdown",
      "metadata": {
        "id": "itgJzH0th5D-",
        "colab_type": "text"
      },
      "source": [
        "based on what you saw in the lecture - you need to turn the graph into a sequence of \"actions\"\n",
        "\n",
        "the tutorial we are following\n",
        "https://docs.dgl.ai/en/0.4.x/tutorials/models/3_generative_model/5_dgmg.html\n",
        "\n",
        "uses a sequence of integers, that represent different things based on where we are in the sequence\n",
        "\n",
        "the function below converts a graph to a sequence in the right format"
      ]
    },
    {
      "cell_type": "code",
      "metadata": {
        "id": "7iFQuo7ph5EB",
        "colab_type": "code",
        "colab": {}
      },
      "source": [
        "def get_decision_sequence(g):\n",
        "    \n",
        "    nodes = np.random.permutation( g.nodes() )\n",
        "    \n",
        "    edge_start, edge_end = g.edges()\n",
        "    \n",
        "    elist = np.random.permutation([(es,ee) for es,ee in zip(edge_start, edge_end)])\n",
        "    \n",
        "    added_nodes = []\n",
        "    added_edges = []\n",
        "    \n",
        "    decision_sequence = []\n",
        "\n",
        "    for node_idx in nodes:\n",
        "        decision_sequence.append(0)  # Add node\n",
        "        \n",
        "        added_nodes.append(node_idx)\n",
        "        \n",
        "        edges_from_node = [e for e in elist if e[0]==node_idx]\n",
        "        \n",
        "        for e in edges_from_node:\n",
        "            \n",
        "            if e[1] not in added_nodes:\n",
        "                continue\n",
        "            elif (e[1],e[0]) in added_edges:\n",
        "                continue\n",
        "            decision_sequence.append(0)  # Add edge\n",
        "            dst = np.where(added_nodes==e[1])[0][0]\n",
        "            decision_sequence.append(dst)  # Set destination to be previous node.\n",
        "            added_edges.append((e[0],e[1]))\n",
        "            \n",
        "        decision_sequence.append(1)  # Stop adding edge\n",
        "    decision_sequence.append(1)  # Stop adding node\n",
        "\n",
        "    return decision_sequence\n"
      ],
      "execution_count": 14,
      "outputs": []
    },
    {
      "cell_type": "code",
      "metadata": {
        "scrolled": false,
        "id": "yGN9JNXqh5EV",
        "colab_type": "code",
        "colab": {
          "base_uri": "https://localhost:8080/",
          "height": 520
        },
        "outputId": "485d1241-54dc-4967-aa72-726dc657087b"
      },
      "source": [
        "get_decision_sequence( graph_ds[5] )"
      ],
      "execution_count": 15,
      "outputs": [
        {
          "output_type": "execute_result",
          "data": {
            "text/plain": [
              "[0,\n",
              " 1,\n",
              " 0,\n",
              " 0,\n",
              " 0,\n",
              " 1,\n",
              " 0,\n",
              " 0,\n",
              " 0,\n",
              " 1,\n",
              " 0,\n",
              " 0,\n",
              " 2,\n",
              " 1,\n",
              " 0,\n",
              " 0,\n",
              " 2,\n",
              " 1,\n",
              " 0,\n",
              " 0,\n",
              " 0,\n",
              " 0,\n",
              " 3,\n",
              " 1,\n",
              " 0,\n",
              " 0,\n",
              " 5,\n",
              " 1,\n",
              " 1]"
            ]
          },
          "metadata": {
            "tags": []
          },
          "execution_count": 15
        }
      ]
    },
    {
      "cell_type": "markdown",
      "metadata": {
        "id": "cJf7bBObh5E1",
        "colab_type": "text"
      },
      "source": [
        "## after you copy-paste all the following code:"
      ]
    },
    {
      "cell_type": "code",
      "metadata": {
        "id": "qqiI1381h5E9",
        "colab_type": "code",
        "colab": {
          "base_uri": "https://localhost:8080/",
          "height": 131
        },
        "outputId": "5aeca18b-1566-46a1-8847-67fc2334fa1c"
      },
      "source": [
        "class DGMGSkeleton(nn.Module):\n",
        "      def __init__(self, v_max):\n",
        "        \"\"\"\n",
        "        Parameters\n",
        "        ----------\n",
        "        v_max: int\n",
        "            Max number of nodes considered\n",
        "        \"\"\"\n",
        "        super(DGMGSkeleton, self).__init__()\n",
        "\n",
        "        # Graph configuration\n",
        "        self.v_max = v_max\n",
        "\n",
        "    def add_node_and_update(self, a=None):\n",
        "        \"\"\"Decide if to add a new node.\n",
        "        If a new node should be added, update the graph.\"\"\"\n",
        "        return NotImplementedError\n",
        "\n",
        "    def add_edge_or_not(self, a=None):\n",
        "        \"\"\"Decide if a new edge should be added.\"\"\"\n",
        "        return NotImplementedError\n",
        "\n",
        "    def choose_dest_and_update(self, a=None):\n",
        "        \"\"\"Choose destination and connect it to the latest node.\n",
        "        Add edges for both directions and update the graph.\"\"\"\n",
        "        return NotImplementedError\n",
        "\n",
        "    def forward_train(self, actions):\n",
        "        \"\"\"Forward at training time. It records the probability\n",
        "        of generating a ground truth graph following the actions.\"\"\"\n",
        "        return NotImplementedError\n",
        "\n",
        "    def forward_inference(self):\n",
        "        \"\"\"Forward at inference time.\n",
        "        It generates graphs on the fly.\"\"\"\n",
        "        return NotImplementedError\n",
        "\n",
        "    def forward(self, actions=None):\n",
        "        # The graph you will work on\n",
        "        self.g = dgl.DGLGraph()\n",
        "\n",
        "        # If there are some features for nodes and edges,\n",
        "        # zero tensors will be set for those of new nodes and edges.\n",
        "        self.g.set_n_initializer(dgl.frame.zero_initializer)\n",
        "        self.g.set_e_initializer(dgl.frame.zero_initializer)\n",
        "\n",
        "        if self.training:\n",
        "            return self.forward_train(actions=actions)\n",
        "        else:\n",
        "            return self.forward_inference()\n",
        "    \n",
        "def forward_inference(self):\n",
        "    stop = self.add_node_and_update()\n",
        "    while (not stop) and (self.g.number_of_nodes() < self.v_max + 1):\n",
        "        num_trials = 0\n",
        "        to_add_edge = self.add_edge_or_not()\n",
        "        while to_add_edge and (num_trials < self.g.number_of_nodes() - 1):\n",
        "            self.choose_dest_and_update()\n",
        "            num_trials += 1\n",
        "            to_add_edge = self.add_edge_or_not()\n",
        "        stop = self.add_node_and_update()\n",
        "\n",
        "    return self.g\n",
        "    \n",
        "def forward_train(self, actions):\n",
        "      \"\"\"\n",
        "    - actions: list\n",
        "        - Contains a_1, ..., a_T described above\n",
        "    - self.prepare_for_train()\n",
        "        - Initializes self.action_step to be 0, which will get\n",
        "          incremented by 1 every time it is called.\n",
        "        - Initializes objects recording log p(a_t|a_1,...a_{t-1})\n",
        "\n",
        "    Returns\n",
        "    -------\n",
        "    - self.get_log_prob(): log p(a_1, ..., a_T)\n",
        "    \"\"\"\n",
        "    self.prepare_for_train()\n",
        "\n",
        "    stop = self.add_node_and_update(a=actions[self.action_step])\n",
        "    while not stop:\n",
        "        to_add_edge = self.add_edge_or_not(a=actions[self.action_step])\n",
        "        while to_add_edge:\n",
        "            self.choose_dest_and_update(a=actions[self.action_step])\n",
        "            to_add_edge = self.add_edge_or_not(a=actions[self.action_step])\n",
        "        stop = self.add_node_and_update(a=actions[self.action_step])\n",
        "\n",
        "    return self.get_log_prob()\n",
        "\n",
        "import torch    \n",
        "class GraphEmbed(nn.Module):\n",
        "      def __init__(self, node_hidden_size):\n",
        "        super(GraphEmbed, self).__init__()\n",
        "\n",
        "        # Setting from the paper\n",
        "        self.graph_hidden_size = 2 * node_hidden_size\n",
        "\n",
        "        # Embed graphs\n",
        "        self.node_gating = nn.Sequential(\n",
        "            nn.Linear(node_hidden_size, 1),\n",
        "            nn.Sigmoid()\n",
        "        )\n",
        "        self.node_to_graph = nn.Linear(node_hidden_size,\n",
        "                                       self.graph_hidden_size)\n",
        "\n",
        "    def forward(self, g):\n",
        "        if g.number_of_nodes() == 0:\n",
        "            return torch.zeros(1, self.graph_hidden_size)\n",
        "        else:\n",
        "            # Node features are stored as hv in ndata.\n",
        "            hvs = g.ndata['hv']\n",
        "            return (self.node_gating(hvs) *\n",
        "                    self.node_to_graph(hvs)).sum(0, keepdim=True)\n",
        "\n",
        "from functools import partial    \n",
        "class GraphProp(nn.Module):\n",
        "    def __init__(self, num_prop_rounds, node_hidden_size):\n",
        "        super(GraphProp, self).__init__()\n",
        "\n",
        "        self.num_prop_rounds = num_prop_rounds\n",
        "\n",
        "        # Setting from the paper\n",
        "        self.node_activation_hidden_size = 2 * node_hidden_size\n",
        "\n",
        "        message_funcs = []\n",
        "        node_update_funcs = []\n",
        "        self.reduce_funcs = []\n",
        "\n",
        "        for t in range(num_prop_rounds):\n",
        "            # input being [hv, hu, xuv]\n",
        "            message_funcs.append(nn.Linear(2 * node_hidden_size + 1,\n",
        "                                           self.node_activation_hidden_size))\n",
        "\n",
        "            self.reduce_funcs.append(partial(self.dgmg_reduce, round=t))\n",
        "            node_update_funcs.append(\n",
        "                nn.GRUCell(self.node_activation_hidden_size,\n",
        "                           node_hidden_size))\n",
        "\n",
        "        self.message_funcs = nn.ModuleList(message_funcs)\n",
        "        self.node_update_funcs = nn.ModuleList(node_update_funcs)\n",
        "\n",
        "    def dgmg_msg(self, edges):\n",
        "        \"\"\"For an edge u->v, return concat([h_u, x_uv])\"\"\"\n",
        "        return {'m': torch.cat([edges.src['hv'],\n",
        "                                edges.data['he']],\n",
        "                               dim=1)}\n",
        "\n",
        "    def dgmg_reduce(self, nodes, round):\n",
        "        hv_old = nodes.data['hv']\n",
        "        m = nodes.mailbox['m']\n",
        "        message = torch.cat([\n",
        "            hv_old.unsqueeze(1).expand(-1, m.size(1), -1), m], dim=2)\n",
        "        node_activation = (self.message_funcs[round](message)).sum(1)\n",
        "\n",
        "        return {'a': node_activation}\n",
        "\n",
        "    def forward(self, g):\n",
        "        if g.number_of_edges() > 0:\n",
        "            for t in range(self.num_prop_rounds):\n",
        "                g.update_all(message_func=self.dgmg_msg,\n",
        "                             reduce_func=self.reduce_funcs[t])\n",
        "                g.ndata['hv'] = self.node_update_funcs[t](\n",
        "                     g.ndata['a'], g.ndata['hv'])   \n",
        "\n",
        "import torch.nn.functional as F\n",
        "from torch.distributions import Bernoulli\n",
        "def bernoulli_action_log_prob(logit, action):\n",
        "     \"\"\"Calculate the log p of an action with respect to a Bernoulli\n",
        "    distribution. Use logit rather than prob for numerical stability.\"\"\"\n",
        "    if action == 0:\n",
        "        return F.logsigmoid(-logit)\n",
        "    else:\n",
        "        return F.logsigmoid(logit)\n",
        "\n",
        "class AddNode(nn.Module):\n",
        "    def __init__(self, graph_embed_func, node_hidden_size):\n",
        "        super(AddNode, self).__init__()\n",
        "\n",
        "        self.graph_op = {'embed': graph_embed_func}\n",
        "\n",
        "        self.stop = 1\n",
        "        self.add_node = nn.Linear(graph_embed_func.graph_hidden_size, 1)\n",
        "\n",
        "        # If to add a node, initialize its hv\n",
        "        self.node_type_embed = nn.Embedding(1, node_hidden_size)\n",
        "        self.initialize_hv = nn.Linear(node_hidden_size + \\\n",
        "                                       graph_embed_func.graph_hidden_size,\n",
        "                                       node_hidden_size)\n",
        "\n",
        "        self.init_node_activation = torch.zeros(1, 2 * node_hidden_size)\n",
        "\n",
        "    def _initialize_node_repr(self, g, node_type, graph_embed):\n",
        "        \"\"\"Whenver a node is added, initialize its representation.\"\"\"\n",
        "        num_nodes = g.number_of_nodes()\n",
        "        hv_init = self.initialize_hv(\n",
        "            torch.cat([\n",
        "                self.node_type_embed(torch.LongTensor([node_type])),\n",
        "                graph_embed], dim=1))\n",
        "        g.nodes[num_nodes - 1].data['hv'] = hv_init\n",
        "        g.nodes[num_nodes - 1].data['a'] = self.init_node_activation\n",
        "\n",
        "    def prepare_training(self):\n",
        "        self.log_prob = []\n",
        "\n",
        "    def forward(self, g, action=None):\n",
        "        graph_embed = self.graph_op['embed'](g)\n",
        "\n",
        "        logit = self.add_node(graph_embed)\n",
        "        prob = torch.sigmoid(logit)\n",
        "\n",
        "        if not self.training:\n",
        "            action = Bernoulli(prob).sample().item()\n",
        "        stop = bool(action == self.stop)\n",
        "\n",
        "        if not stop:\n",
        "            g.add_nodes(1)\n",
        "            self._initialize_node_repr(g, action, graph_embed)\n",
        "\n",
        "        if self.training:\n",
        "            sample_log_prob = bernoulli_action_log_prob(logit, action)\n",
        "\n",
        "            self.log_prob.append(sample_log_prob)\n",
        "\n",
        "        return stop   \n",
        "class AddEdge(nn.Module):\n",
        "    def __init__(self, graph_embed_func, node_hidden_size):\n",
        "        super(AddEdge, self).__init__()\n",
        "\n",
        "        self.graph_op = {'embed': graph_embed_func}\n",
        "        self.add_edge = nn.Linear(graph_embed_func.graph_hidden_size + \\\n",
        "                                  node_hidden_size, 1)\n",
        "\n",
        "    def prepare_training(self):\n",
        "        self.log_prob = []\n",
        "\n",
        "    def forward(self, g, action=None):\n",
        "        graph_embed = self.graph_op['embed'](g)\n",
        "        src_embed = g.nodes[g.number_of_nodes() - 1].data['hv']\n",
        "\n",
        "        logit = self.add_edge(torch.cat(\n",
        "            [graph_embed, src_embed], dim=1))\n",
        "        prob = torch.sigmoid(logit)\n",
        "\n",
        "        if self.training:\n",
        "            sample_log_prob = bernoulli_action_log_prob(logit, action)\n",
        "            self.log_prob.append(sample_log_prob)\n",
        "        else:\n",
        "            action = Bernoulli(prob).sample().item()\n",
        "\n",
        "        to_add_edge = bool(action == 0)\n",
        "        return to_add_edge\n",
        "\n",
        "from torch.distributions import Categorical\n",
        "class ChooseDestAndUpdate(nn.Module):\n",
        "    def __init__(self, graph_prop_func, node_hidden_size):\n",
        "        super(ChooseDestAndUpdate, self).__init__()\n",
        "\n",
        "        self.graph_op = {'prop': graph_prop_func}\n",
        "        self.choose_dest = nn.Linear(2 * node_hidden_size, 1)\n",
        "\n",
        "    def _initialize_edge_repr(self, g, src_list, dest_list):\n",
        "        # For untyped edges, only add 1 to indicate its existence.\n",
        "        # For multiple edge types, use a one-hot representation\n",
        "        # or an embedding module.\n",
        "        edge_repr = torch.ones(len(src_list), 1)\n",
        "        g.edges[src_list, dest_list].data['he'] = edge_repr\n",
        "\n",
        "    def prepare_training(self):\n",
        "        self.log_prob = []\n",
        "\n",
        "    def forward(self, g, dest):\n",
        "        src = g.number_of_nodes() - 1\n",
        "        possible_dests = range(src)\n",
        "\n",
        "        src_embed_expand = g.nodes[src].data['hv'].expand(src, -1)\n",
        "        possible_dests_embed = g.nodes[possible_dests].data['hv']\n",
        "\n",
        "        dests_scores = self.choose_dest(\n",
        "            torch.cat([possible_dests_embed,\n",
        "                       src_embed_expand], dim=1)).view(1, -1)\n",
        "        dests_probs = F.softmax(dests_scores, dim=1)\n",
        "\n",
        "        if not self.training:\n",
        "            dest = Categorical(dests_probs).sample().item()\n",
        "\n",
        "        if not g.has_edge_between(src, dest):\n",
        "            # For undirected graphs, add edges for both directions\n",
        "            # so that you can perform graph propagation.\n",
        "            src_list = [src, dest]\n",
        "            dest_list = [dest, src]\n",
        "\n",
        "            g.add_edges(src_list, dest_list)\n",
        "            self._initialize_edge_repr(g, src_list, dest_list)\n",
        "\n",
        "            self.graph_op['prop'](g)\n",
        "\n",
        "        if self.training:\n",
        "            if dests_probs.nelement() > 1:\n",
        "                self.log_prob.append(\n",
        "                    F.log_softmax(dests_scores, dim=1)[:, dest: dest + 1])\n",
        "class DGMG(DGMGSkeleton):\n",
        "    def __init__(self, v_max, node_hidden_size,\n",
        "                 num_prop_rounds):\n",
        "        super(DGMG, self).__init__(v_max)\n",
        "\n",
        "        # Graph embedding module\n",
        "        self.graph_embed = GraphEmbed(node_hidden_size)\n",
        "\n",
        "        # Graph propagation module\n",
        "        self.graph_prop = GraphProp(num_prop_rounds,\n",
        "                                    node_hidden_size)\n",
        "\n",
        "        # Actions\n",
        "        self.add_node_agent = AddNode(\n",
        "            self.graph_embed, node_hidden_size)\n",
        "        self.add_edge_agent = AddEdge(\n",
        "            self.graph_embed, node_hidden_size)\n",
        "        self.choose_dest_agent = ChooseDestAndUpdate(\n",
        "            self.graph_prop, node_hidden_size)\n",
        "\n",
        "        # Forward functions\n",
        "        self.forward_train = partial(forward_train, self=self)\n",
        "        self.forward_inference = partial(forward_inference, self=self)\n",
        "\n",
        "    @property\n",
        "    def action_step(self):\n",
        "        old_step_count = self.step_count\n",
        "        self.step_count += 1\n",
        "\n",
        "        return old_step_count\n",
        "\n",
        "    def prepare_for_train(self):\n",
        "        self.step_count = 0\n",
        "\n",
        "        self.add_node_agent.prepare_training()\n",
        "        self.add_edge_agent.prepare_training()\n",
        "        self.choose_dest_agent.prepare_training()\n",
        "\n",
        "    def add_node_and_update(self, a=None):\n",
        "        \"\"\"Decide if to add a new node.\n",
        "        If a new node should be added, update the graph.\"\"\"\n",
        "\n",
        "        return self.add_node_agent(self.g, a)\n",
        "\n",
        "    def add_edge_or_not(self, a=None):\n",
        "        \"\"\"Decide if a new edge should be added.\"\"\"\n",
        "\n",
        "        return self.add_edge_agent(self.g, a)\n",
        "\n",
        "    def choose_dest_and_update(self, a=None):\n",
        "        \"\"\"Choose destination and connect it to the latest node.\n",
        "        Add edges for both directions and update the graph.\"\"\"\n",
        "\n",
        "        self.choose_dest_agent(self.g, a)\n",
        "\n",
        "    def get_log_prob(self):\n",
        "        add_node_log_p = torch.cat(self.add_node_agent.log_prob).sum()\n",
        "        add_edge_log_p = torch.cat(self.add_edge_agent.log_prob).sum()\n",
        "        choose_dest_log_p = torch.cat(self.choose_dest_agent.log_prob).sum()\n",
        "        return add_node_log_p + add_edge_log_p + choose_dest_log_p"
      ],
      "execution_count": 17,
      "outputs": [
        {
          "output_type": "error",
          "ename": "IndentationError",
          "evalue": "ignored",
          "traceback": [
            "\u001b[0;36m  File \u001b[0;32m\"<ipython-input-17-f38b676b4cb0>\"\u001b[0;36m, line \u001b[0;32m3\u001b[0m\n\u001b[0;31m    def forward_inference(self):\u001b[0m\n\u001b[0m      ^\u001b[0m\n\u001b[0;31mIndentationError\u001b[0m\u001b[0;31m:\u001b[0m expected an indented block\n"
          ]
        }
      ]
    },
    {
      "cell_type": "markdown",
      "metadata": {
        "id": "YvWp5y8Fh5FY",
        "colab_type": "text"
      },
      "source": [
        "## you can now create a model that generates graphs"
      ]
    },
    {
      "cell_type": "code",
      "metadata": {
        "id": "hO0d7FCGh5Fb",
        "colab_type": "code",
        "colab": {}
      },
      "source": [
        "model = DGMG(v_max=10, node_hidden_size=10, num_prop_rounds=5)"
      ],
      "execution_count": null,
      "outputs": []
    },
    {
      "cell_type": "markdown",
      "metadata": {
        "id": "k84fOSYyh5Ft",
        "colab_type": "text"
      },
      "source": [
        "## depending on the model being in training or evaluation mode, it will either generate a model, or evaluate the likelihood given a sequence of steps"
      ]
    },
    {
      "cell_type": "code",
      "metadata": {
        "id": "psKc2cr1h5Fy",
        "colab_type": "code",
        "colab": {}
      },
      "source": [
        "model.eval();"
      ],
      "execution_count": null,
      "outputs": []
    },
    {
      "cell_type": "code",
      "metadata": {
        "id": "tM1FYO9mh5GE",
        "colab_type": "code",
        "colab": {},
        "outputId": "f471e797-87cb-4e3f-b3fb-bf4c85a60ebe"
      },
      "source": [
        "N = 4\n",
        "\n",
        "fig,ax = plt.subplots(N,N,figsize=(4,4),dpi=100)\n",
        "\n",
        "\n",
        "\n",
        "\n",
        "for i in range(N):\n",
        "    for j in range(N):\n",
        "        \n",
        "        nx.draw( model().to_networkx() ,ax=ax[i][j],node_size=5,arrows=False)\n",
        "\n",
        "plt.show()"
      ],
      "execution_count": null,
      "outputs": [
        {
          "output_type": "stream",
          "text": [
            "<ipython-input-84-aa30a9485752>:205: DeprecationWarning: an integer is required (got type float).  Implicit conversion to integers using __int__ is deprecated, and may be removed in a future version of Python.\n",
            "  self.node_type_embed(torch.LongTensor([node_type])),\n"
          ],
          "name": "stderr"
        },
        {
          "output_type": "display_data",
          "data": {
            "image/png": "[encoded data removed]",
            "text/plain": [
              "<Figure size 400x400 with 16 Axes>"
            ]
          },
          "metadata": {
            "tags": []
          }
        }
      ]
    },
    {
      "cell_type": "code",
      "metadata": {
        "id": "peCDXDRsh5Gi",
        "colab_type": "code",
        "colab": {}
      },
      "source": [
        "model.train();"
      ],
      "execution_count": null,
      "outputs": []
    },
    {
      "cell_type": "code",
      "metadata": {
        "id": "91fznYMmh5HK",
        "colab_type": "code",
        "colab": {}
      },
      "source": [
        "actions = get_decision_sequence(graph_ds[5])"
      ],
      "execution_count": null,
      "outputs": []
    },
    {
      "cell_type": "code",
      "metadata": {
        "id": "MsIgaSHLh5HS",
        "colab_type": "code",
        "colab": {},
        "outputId": "165d1a00-fb2a-418b-ef49-96db970b0cb7"
      },
      "source": [
        "model(actions=actions)"
      ],
      "execution_count": null,
      "outputs": [
        {
          "output_type": "execute_result",
          "data": {
            "text/plain": [
              "tensor(-8.8838, grad_fn=<AddBackward0>)"
            ]
          },
          "metadata": {
            "tags": []
          },
          "execution_count": 106
        }
      ]
    },
    {
      "cell_type": "code",
      "metadata": {
        "id": "5fbJuWzih5Hb",
        "colab_type": "code",
        "colab": {}
      },
      "source": [
        ""
      ],
      "execution_count": null,
      "outputs": []
    },
    {
      "cell_type": "code",
      "metadata": {
        "id": "uOpyMb4eh5Hf",
        "colab_type": "code",
        "colab": {}
      },
      "source": [
        "model.train()\n",
        "\n",
        "for epoch in range( ... ):\n",
        "        \n",
        "    for data in tqdm( graph_dataset ):\n",
        "        \n",
        "\n",
        "        ...\n",
        "        \n",
        "        \n",
        "        "
      ],
      "execution_count": null,
      "outputs": []
    },
    {
      "cell_type": "markdown",
      "metadata": {
        "id": "KwzkRS9uh5Hk",
        "colab_type": "text"
      },
      "source": [
        "## submit the trained model source code + saved state_dict "
      ]
    },
    {
      "cell_type": "code",
      "metadata": {
        "id": "Dju__q21h5Hl",
        "colab_type": "code",
        "colab": {},
        "outputId": "a344db0d-ee15-4def-ba26-e9a998579e5d"
      },
      "source": [
        "N = 4\n",
        "model.eval()\n",
        "fig,ax = plt.subplots(N,N,figsize=(4,4),dpi=100)\n",
        "\n",
        "\n",
        "for i in range(N):\n",
        "    for j in range(N):\n",
        "        \n",
        "        nx.draw( model().to_networkx() ,ax=ax[i][j],node_size=5,arrows=False)\n",
        "\n",
        "plt.show()"
      ],
      "execution_count": null,
      "outputs": [
        {
          "output_type": "stream",
          "text": [
            "<ipython-input-84-aa30a9485752>:205: DeprecationWarning: an integer is required (got type float).  Implicit conversion to integers using __int__ is deprecated, and may be removed in a future version of Python.\n",
            "  self.node_type_embed(torch.LongTensor([node_type])),\n"
          ],
          "name": "stderr"
        },
        {
          "output_type": "display_data",
          "data": {
            "image/png": "[encoded data removed]",
            "text/plain": [
              "<Figure size 400x400 with 16 Axes>"
            ]
          },
          "metadata": {
            "tags": []
          }
        }
      ]
    },
    {
      "cell_type": "code",
      "metadata": {
        "id": "0ozwe272h5Hr",
        "colab_type": "code",
        "colab": {}
      },
      "source": [
        ""
      ],
      "execution_count": null,
      "outputs": []
    },
    {
      "cell_type": "code",
      "metadata": {
        "id": "MKBNvMnbh5Hu",
        "colab_type": "code",
        "colab": {}
      },
      "source": [
        ""
      ],
      "execution_count": null,
      "outputs": []
    }
  ]
}