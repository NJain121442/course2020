{
  "nbformat": 4,
  "nbformat_minor": 0,
  "metadata": {
    "kernelspec": {
      "display_name": "Python 3",
      "language": "python",
      "name": "python3"
    },
    "language_info": {
      "codemirror_mode": {
        "name": "ipython",
        "version": 3
      },
      "file_extension": ".py",
      "mimetype": "text/x-python",
      "name": "python",
      "nbconvert_exporter": "python",
      "pygments_lexer": "ipython3",
      "version": "3.8.2"
    },
    "colab": {
      "name": "Homework_3_point_cloud_mnist.ipynb",
      "provenance": [],
      "toc_visible": true,
      "include_colab_link": true
    }
  },
  "cells": [
    {
      "cell_type": "markdown",
      "metadata": {
        "id": "view-in-github",
        "colab_type": "text"
      },
      "source": [
        "<a href=\"https://colab.research.google.com/github/NJain121442/course2020/blob/master/Homework_3_point_cloud_mnist_Nikita.ipynb\" target=\"_parent\"><img src=\"https://colab.research.google.com/assets/colab-badge.svg\" alt=\"Open In Colab\"/></a>"
      ]
    },
    {
      "cell_type": "code",
      "metadata": {
        "id": "D2bVOJ2-FEsp",
        "colab_type": "code",
        "colab": {}
      },
      "source": [
        "#if youre running on colab, run this line first to properly load the h5 files\n",
        "#pip install tables --upgrade"
      ],
      "execution_count": null,
      "outputs": []
    },
    {
      "cell_type": "code",
      "metadata": {
        "id": "C9eac0TWJB_U",
        "colab_type": "code",
        "colab": {
          "base_uri": "https://localhost:8080/",
          "height": 297
        },
        "outputId": "81a66c8e-13a6-45cb-f5ec-ca0568c15b06"
      },
      "source": [
        "pip install tables --upgrade"
      ],
      "execution_count": null,
      "outputs": [
        {
          "output_type": "stream",
          "text": [
            "Collecting tables\n",
            "\u001b[?25l  Downloading https://files.pythonhosted.org/packages/ed/c3/8fd9e3bb21872f9d69eb93b3014c86479864cca94e625fd03713ccacec80/tables-3.6.1-cp36-cp36m-manylinux1_x86_64.whl (4.3MB)\n",
            "\u001b[K     |████████████████████████████████| 4.3MB 53kB/s \n",
            "\u001b[?25hRequirement already satisfied, skipping upgrade: numpy>=1.9.3 in /usr/local/lib/python3.6/dist-packages (from tables) (1.18.5)\n",
            "Requirement already satisfied, skipping upgrade: numexpr>=2.6.2 in /usr/local/lib/python3.6/dist-packages (from tables) (2.7.1)\n",
            "Installing collected packages: tables\n",
            "  Found existing installation: tables 3.4.4\n",
            "    Uninstalling tables-3.4.4:\n",
            "      Successfully uninstalled tables-3.4.4\n",
            "Successfully installed tables-3.6.1\n"
          ],
          "name": "stdout"
        },
        {
          "output_type": "display_data",
          "data": {
            "application/vnd.colab-display-data+json": {
              "pip_warning": {
                "packages": [
                  "tables"
                ]
              }
            }
          },
          "metadata": {
            "tags": []
          }
        }
      ]
    },
    {
      "cell_type": "code",
      "metadata": {
        "id": "xjlx5CdzFEsu",
        "colab_type": "code",
        "colab": {}
      },
      "source": [
        "import torch\n",
        "import torch.nn as nn\n",
        "import torch.nn.functional as F\n",
        "from torch.utils.data import Dataset, DataLoader, Sampler\n",
        "import glob\n",
        "from tqdm.notebook import tqdm\n",
        "import torch.optim as optim\n",
        "import pandas as pd\n",
        "import matplotlib.pyplot as plt\n",
        "import numpy as np"
      ],
      "execution_count": null,
      "outputs": []
    },
    {
      "cell_type": "code",
      "metadata": {
        "id": "83To5-lzFlrc",
        "colab_type": "code",
        "colab": {
          "base_uri": "https://localhost:8080/",
          "height": 384
        },
        "outputId": "f16be271-5e68-415f-f0cd-b153230d3cee"
      },
      "source": [
        "!wget -O  training_ds.h5 https://www.dropbox.com/sh/h7wj4owo5vxwzgp/AACdZ5vjsHRv6utQk0_ZtIH4a?dl=0&preview=training_ds.h5"
      ],
      "execution_count": null,
      "outputs": [
        {
          "output_type": "stream",
          "text": [
            "--2020-06-19 15:00:24--  https://www.dropbox.com/sh/h7wj4owo5vxwzgp/AACdZ5vjsHRv6utQk0_ZtIH4a?dl=0\n",
            "Resolving www.dropbox.com (www.dropbox.com)... 162.125.3.1, 2620:100:6018:1::a27d:301\n",
            "Connecting to www.dropbox.com (www.dropbox.com)|162.125.3.1|:443... connected.\n",
            "HTTP request sent, awaiting response... 301 Moved Permanently\n",
            "Location: /sh/raw/h7wj4owo5vxwzgp/AACdZ5vjsHRv6utQk0_ZtIH4a [following]\n",
            "--2020-06-19 15:00:24--  https://www.dropbox.com/sh/raw/h7wj4owo5vxwzgp/AACdZ5vjsHRv6utQk0_ZtIH4a\n",
            "Reusing existing connection to www.dropbox.com:443.\n",
            "HTTP request sent, awaiting response... 302 Found\n",
            "Location: https://uc1cb5a1837f53cfc990016e40f3.dl.dropboxusercontent.com/zip_download_get/AdXKvx2Q0DJ0DSFGTPx8hGZTEuFGIM5WF8jNYk2sqWGLzG8DMw3L0qxqRV7mm94GOxPAWk8yfz5xaOEXOulLby_6_hC-wQ_4zzOP4X9MgeodsQ [following]\n",
            "--2020-06-19 15:00:25--  https://uc1cb5a1837f53cfc990016e40f3.dl.dropboxusercontent.com/zip_download_get/AdXKvx2Q0DJ0DSFGTPx8hGZTEuFGIM5WF8jNYk2sqWGLzG8DMw3L0qxqRV7mm94GOxPAWk8yfz5xaOEXOulLby_6_hC-wQ_4zzOP4X9MgeodsQ\n",
            "Resolving uc1cb5a1837f53cfc990016e40f3.dl.dropboxusercontent.com (uc1cb5a1837f53cfc990016e40f3.dl.dropboxusercontent.com)... 162.125.3.15, 2620:100:6018:15::a27d:30f\n",
            "Connecting to uc1cb5a1837f53cfc990016e40f3.dl.dropboxusercontent.com (uc1cb5a1837f53cfc990016e40f3.dl.dropboxusercontent.com)|162.125.3.15|:443... connected.\n",
            "HTTP request sent, awaiting response... 200 OK\n",
            "Length: 75147062 (72M) [application/zip]\n",
            "Saving to: ‘training_ds.h5’\n",
            "\n",
            "training_ds.h5      100%[===================>]  71.67M  23.9MB/s    in 3.0s    \n",
            "\n",
            "2020-06-19 15:00:28 (23.9 MB/s) - ‘training_ds.h5’ saved [75147062/75147062]\n",
            "\n"
          ],
          "name": "stdout"
        }
      ]
    },
    {
      "cell_type": "code",
      "metadata": {
        "id": "KQRn0VyOGJKY",
        "colab_type": "code",
        "colab": {
          "base_uri": "https://localhost:8080/",
          "height": 384
        },
        "outputId": "d58207a3-a65a-4e36-da3c-6df99254b107"
      },
      "source": [
        "!wget -O valid_ds.h5 https://www.dropbox.com/sh/h7wj4owo5vxwzgp/AACdZ5vjsHRv6utQk0_ZtIH4a?dl=0&preview=valid_ds.h5"
      ],
      "execution_count": null,
      "outputs": [
        {
          "output_type": "stream",
          "text": [
            "--2020-06-19 15:01:12--  https://www.dropbox.com/sh/h7wj4owo5vxwzgp/AACdZ5vjsHRv6utQk0_ZtIH4a?dl=0\n",
            "Resolving www.dropbox.com (www.dropbox.com)... 162.125.3.1, 2620:100:6018:1::a27d:301\n",
            "Connecting to www.dropbox.com (www.dropbox.com)|162.125.3.1|:443... connected.\n",
            "HTTP request sent, awaiting response... 301 Moved Permanently\n",
            "Location: /sh/raw/h7wj4owo5vxwzgp/AACdZ5vjsHRv6utQk0_ZtIH4a [following]\n",
            "--2020-06-19 15:01:13--  https://www.dropbox.com/sh/raw/h7wj4owo5vxwzgp/AACdZ5vjsHRv6utQk0_ZtIH4a\n",
            "Reusing existing connection to www.dropbox.com:443.\n",
            "HTTP request sent, awaiting response... 302 Found\n",
            "Location: https://uca19b43183cc56f2f87f1e59c57.dl.dropboxusercontent.com/zip_download_get/AdUf2i7E-XeiIvmFlskB-m2TvFb53h2ae2cQekHIN7zBDjBeYtSVMu2cjN_IxmXz40Cl6dyBfb8vtGUZyu_fQ-Rm70kLLri5UWHqu58oRBCspA [following]\n",
            "--2020-06-19 15:01:13--  https://uca19b43183cc56f2f87f1e59c57.dl.dropboxusercontent.com/zip_download_get/AdUf2i7E-XeiIvmFlskB-m2TvFb53h2ae2cQekHIN7zBDjBeYtSVMu2cjN_IxmXz40Cl6dyBfb8vtGUZyu_fQ-Rm70kLLri5UWHqu58oRBCspA\n",
            "Resolving uca19b43183cc56f2f87f1e59c57.dl.dropboxusercontent.com (uca19b43183cc56f2f87f1e59c57.dl.dropboxusercontent.com)... 162.125.3.15, 2620:100:6018:15::a27d:30f\n",
            "Connecting to uca19b43183cc56f2f87f1e59c57.dl.dropboxusercontent.com (uca19b43183cc56f2f87f1e59c57.dl.dropboxusercontent.com)|162.125.3.15|:443... connected.\n",
            "HTTP request sent, awaiting response... 200 OK\n",
            "Length: 75147062 (72M) [application/zip]\n",
            "Saving to: ‘valid_ds.h5’\n",
            "\n",
            "valid_ds.h5         100%[===================>]  71.67M  23.0MB/s    in 3.1s    \n",
            "\n",
            "2020-06-19 15:01:17 (23.0 MB/s) - ‘valid_ds.h5’ saved [75147062/75147062]\n",
            "\n"
          ],
          "name": "stdout"
        }
      ]
    },
    {
      "cell_type": "code",
      "metadata": {
        "id": "aEPp-0I1HZYu",
        "colab_type": "code",
        "colab": {
          "base_uri": "https://localhost:8080/",
          "height": 1000
        },
        "outputId": "3da79b53-24ea-459d-e77d-28298fb355c3"
      },
      "source": [
        "a = pd.read_hdf(\"/content/valid_ds.h5\")"
      ],
      "execution_count": null,
      "outputs": [
        {
          "output_type": "error",
          "ename": "OSError",
          "evalue": "ignored",
          "traceback": [
            "\u001b[0;31m---------------------------------------------------------------------------\u001b[0m",
            "\u001b[0;31mHDF5ExtError\u001b[0m                              Traceback (most recent call last)",
            "\u001b[0;32m/usr/local/lib/python3.6/dist-packages/pandas/io/pytables.py\u001b[0m in \u001b[0;36mopen\u001b[0;34m(self, mode, **kwargs)\u001b[0m\n\u001b[1;32m    654\u001b[0m         \u001b[0;32mtry\u001b[0m\u001b[0;34m:\u001b[0m\u001b[0;34m\u001b[0m\u001b[0;34m\u001b[0m\u001b[0m\n\u001b[0;32m--> 655\u001b[0;31m             \u001b[0mself\u001b[0m\u001b[0;34m.\u001b[0m\u001b[0m_handle\u001b[0m \u001b[0;34m=\u001b[0m \u001b[0mtables\u001b[0m\u001b[0;34m.\u001b[0m\u001b[0mopen_file\u001b[0m\u001b[0;34m(\u001b[0m\u001b[0mself\u001b[0m\u001b[0;34m.\u001b[0m\u001b[0m_path\u001b[0m\u001b[0;34m,\u001b[0m \u001b[0mself\u001b[0m\u001b[0;34m.\u001b[0m\u001b[0m_mode\u001b[0m\u001b[0;34m,\u001b[0m \u001b[0;34m**\u001b[0m\u001b[0mkwargs\u001b[0m\u001b[0;34m)\u001b[0m\u001b[0;34m\u001b[0m\u001b[0;34m\u001b[0m\u001b[0m\n\u001b[0m\u001b[1;32m    656\u001b[0m         \u001b[0;32mexcept\u001b[0m \u001b[0mIOError\u001b[0m \u001b[0;32mas\u001b[0m \u001b[0merr\u001b[0m\u001b[0;34m:\u001b[0m  \u001b[0;31m# pragma: no cover\u001b[0m\u001b[0;34m\u001b[0m\u001b[0;34m\u001b[0m\u001b[0m\n",
            "\u001b[0;32m/usr/local/lib/python3.6/dist-packages/tables/file.py\u001b[0m in \u001b[0;36mopen_file\u001b[0;34m(filename, mode, title, root_uep, filters, **kwargs)\u001b[0m\n\u001b[1;32m    319\u001b[0m \u001b[0;31m# A dumb class that doesn't keep nothing at all\u001b[0m\u001b[0;34m\u001b[0m\u001b[0;34m\u001b[0m\u001b[0;34m\u001b[0m\u001b[0m\n\u001b[0;32m--> 320\u001b[0;31m \u001b[0;32mclass\u001b[0m \u001b[0m_NoCache\u001b[0m\u001b[0;34m(\u001b[0m\u001b[0mobject\u001b[0m\u001b[0;34m)\u001b[0m\u001b[0;34m:\u001b[0m\u001b[0;34m\u001b[0m\u001b[0;34m\u001b[0m\u001b[0m\n\u001b[0m\u001b[1;32m    321\u001b[0m     \u001b[0;32mdef\u001b[0m \u001b[0m__len__\u001b[0m\u001b[0;34m(\u001b[0m\u001b[0mself\u001b[0m\u001b[0;34m)\u001b[0m\u001b[0;34m:\u001b[0m\u001b[0;34m\u001b[0m\u001b[0;34m\u001b[0m\u001b[0m\n",
            "\u001b[0;32m/usr/local/lib/python3.6/dist-packages/tables/file.py\u001b[0m in \u001b[0;36m__init__\u001b[0;34m(self, filename, mode, title, root_uep, filters, **kwargs)\u001b[0m\n\u001b[1;32m    783\u001b[0m             \u001b[0m_checkfilters\u001b[0m\u001b[0;34m(\u001b[0m\u001b[0mfilters\u001b[0m\u001b[0;34m)\u001b[0m\u001b[0;34m\u001b[0m\u001b[0;34m\u001b[0m\u001b[0m\n\u001b[0;32m--> 784\u001b[0;31m             \u001b[0mself\u001b[0m\u001b[0;34m.\u001b[0m\u001b[0mformat_version\u001b[0m \u001b[0;34m=\u001b[0m \u001b[0mformat_version\u001b[0m\u001b[0;34m\u001b[0m\u001b[0;34m\u001b[0m\u001b[0m\n\u001b[0m\u001b[1;32m    785\u001b[0m             \u001b[0;34m\"\"\"The PyTables version number of this file.\"\"\"\u001b[0m\u001b[0;34m\u001b[0m\u001b[0;34m\u001b[0m\u001b[0m\n",
            "\u001b[0;32mtables/hdf5extension.pyx\u001b[0m in \u001b[0;36mtables.hdf5extension.File._g_new\u001b[0;34m()\u001b[0m\n",
            "\u001b[0;31mHDF5ExtError\u001b[0m: HDF5 error back trace\n\n  File \"H5F.c\", line 604, in H5Fopen\n    unable to open file\n  File \"H5Fint.c\", line 1087, in H5F_open\n    unable to read superblock\n  File \"H5Fsuper.c\", line 277, in H5F_super_read\n    file signature not found\n\nEnd of HDF5 error back trace\n\nUnable to open/create file '/content/valid_ds.h5'",
            "\nDuring handling of the above exception, another exception occurred:\n",
            "\u001b[0;31mOSError\u001b[0m                                   Traceback (most recent call last)",
            "\u001b[0;32m<ipython-input-23-2f88bc041c76>\u001b[0m in \u001b[0;36m<module>\u001b[0;34m()\u001b[0m\n\u001b[0;32m----> 1\u001b[0;31m \u001b[0ma\u001b[0m \u001b[0;34m=\u001b[0m \u001b[0mpd\u001b[0m\u001b[0;34m.\u001b[0m\u001b[0mread_hdf\u001b[0m\u001b[0;34m(\u001b[0m\u001b[0;34m\"/content/valid_ds.h5\"\u001b[0m\u001b[0;34m)\u001b[0m\u001b[0;34m\u001b[0m\u001b[0;34m\u001b[0m\u001b[0m\n\u001b[0m",
            "\u001b[0;32m/usr/local/lib/python3.6/dist-packages/pandas/io/pytables.py\u001b[0m in \u001b[0;36mread_hdf\u001b[0;34m(path_or_buf, key, mode, errors, where, start, stop, columns, iterator, chunksize, **kwargs)\u001b[0m\n\u001b[1;32m    395\u001b[0m             \u001b[0;32mraise\u001b[0m \u001b[0mFileNotFoundError\u001b[0m\u001b[0;34m(\u001b[0m\u001b[0;34mf\"File {path_or_buf} does not exist\"\u001b[0m\u001b[0;34m)\u001b[0m\u001b[0;34m\u001b[0m\u001b[0;34m\u001b[0m\u001b[0m\n\u001b[1;32m    396\u001b[0m \u001b[0;34m\u001b[0m\u001b[0m\n\u001b[0;32m--> 397\u001b[0;31m         \u001b[0mstore\u001b[0m \u001b[0;34m=\u001b[0m \u001b[0mHDFStore\u001b[0m\u001b[0;34m(\u001b[0m\u001b[0mpath_or_buf\u001b[0m\u001b[0;34m,\u001b[0m \u001b[0mmode\u001b[0m\u001b[0;34m=\u001b[0m\u001b[0mmode\u001b[0m\u001b[0;34m,\u001b[0m \u001b[0merrors\u001b[0m\u001b[0;34m=\u001b[0m\u001b[0merrors\u001b[0m\u001b[0;34m,\u001b[0m \u001b[0;34m**\u001b[0m\u001b[0mkwargs\u001b[0m\u001b[0;34m)\u001b[0m\u001b[0;34m\u001b[0m\u001b[0;34m\u001b[0m\u001b[0m\n\u001b[0m\u001b[1;32m    398\u001b[0m         \u001b[0;31m# can't auto open/close if we are using an iterator\u001b[0m\u001b[0;34m\u001b[0m\u001b[0;34m\u001b[0m\u001b[0;34m\u001b[0m\u001b[0m\n\u001b[1;32m    399\u001b[0m         \u001b[0;31m# so delegate to the iterator\u001b[0m\u001b[0;34m\u001b[0m\u001b[0;34m\u001b[0m\u001b[0;34m\u001b[0m\u001b[0m\n",
            "\u001b[0;32m/usr/local/lib/python3.6/dist-packages/pandas/io/pytables.py\u001b[0m in \u001b[0;36m__init__\u001b[0;34m(self, path, mode, complevel, complib, fletcher32, **kwargs)\u001b[0m\n\u001b[1;32m    535\u001b[0m         \u001b[0mself\u001b[0m\u001b[0;34m.\u001b[0m\u001b[0m_fletcher32\u001b[0m \u001b[0;34m=\u001b[0m \u001b[0mfletcher32\u001b[0m\u001b[0;34m\u001b[0m\u001b[0;34m\u001b[0m\u001b[0m\n\u001b[1;32m    536\u001b[0m         \u001b[0mself\u001b[0m\u001b[0;34m.\u001b[0m\u001b[0m_filters\u001b[0m \u001b[0;34m=\u001b[0m \u001b[0;32mNone\u001b[0m\u001b[0;34m\u001b[0m\u001b[0;34m\u001b[0m\u001b[0m\n\u001b[0;32m--> 537\u001b[0;31m         \u001b[0mself\u001b[0m\u001b[0;34m.\u001b[0m\u001b[0mopen\u001b[0m\u001b[0;34m(\u001b[0m\u001b[0mmode\u001b[0m\u001b[0;34m=\u001b[0m\u001b[0mmode\u001b[0m\u001b[0;34m,\u001b[0m \u001b[0;34m**\u001b[0m\u001b[0mkwargs\u001b[0m\u001b[0;34m)\u001b[0m\u001b[0;34m\u001b[0m\u001b[0;34m\u001b[0m\u001b[0m\n\u001b[0m\u001b[1;32m    538\u001b[0m \u001b[0;34m\u001b[0m\u001b[0m\n\u001b[1;32m    539\u001b[0m     \u001b[0;32mdef\u001b[0m \u001b[0m__fspath__\u001b[0m\u001b[0;34m(\u001b[0m\u001b[0mself\u001b[0m\u001b[0;34m)\u001b[0m\u001b[0;34m:\u001b[0m\u001b[0;34m\u001b[0m\u001b[0;34m\u001b[0m\u001b[0m\n",
            "\u001b[0;32m/usr/local/lib/python3.6/dist-packages/pandas/io/pytables.py\u001b[0m in \u001b[0;36mopen\u001b[0;34m(self, mode, **kwargs)\u001b[0m\n\u001b[1;32m    685\u001b[0m             \u001b[0;31m# is not part of IOError, make it one\u001b[0m\u001b[0;34m\u001b[0m\u001b[0;34m\u001b[0m\u001b[0;34m\u001b[0m\u001b[0m\n\u001b[1;32m    686\u001b[0m             \u001b[0;32mif\u001b[0m \u001b[0mself\u001b[0m\u001b[0;34m.\u001b[0m\u001b[0m_mode\u001b[0m \u001b[0;34m==\u001b[0m \u001b[0;34m\"r\"\u001b[0m \u001b[0;32mand\u001b[0m \u001b[0;34m\"Unable to open/create file\"\u001b[0m \u001b[0;32min\u001b[0m \u001b[0mstr\u001b[0m\u001b[0;34m(\u001b[0m\u001b[0merr\u001b[0m\u001b[0;34m)\u001b[0m\u001b[0;34m:\u001b[0m\u001b[0;34m\u001b[0m\u001b[0;34m\u001b[0m\u001b[0m\n\u001b[0;32m--> 687\u001b[0;31m                 \u001b[0;32mraise\u001b[0m \u001b[0mIOError\u001b[0m\u001b[0;34m(\u001b[0m\u001b[0mstr\u001b[0m\u001b[0;34m(\u001b[0m\u001b[0merr\u001b[0m\u001b[0;34m)\u001b[0m\u001b[0;34m)\u001b[0m\u001b[0;34m\u001b[0m\u001b[0;34m\u001b[0m\u001b[0m\n\u001b[0m\u001b[1;32m    688\u001b[0m             \u001b[0;32mraise\u001b[0m\u001b[0;34m\u001b[0m\u001b[0;34m\u001b[0m\u001b[0m\n\u001b[1;32m    689\u001b[0m \u001b[0;34m\u001b[0m\u001b[0m\n",
            "\u001b[0;31mOSError\u001b[0m: HDF5 error back trace\n\n  File \"H5F.c\", line 604, in H5Fopen\n    unable to open file\n  File \"H5Fint.c\", line 1087, in H5F_open\n    unable to read superblock\n  File \"H5Fsuper.c\", line 277, in H5F_super_read\n    file signature not found\n\nEnd of HDF5 error back trace\n\nUnable to open/create file '/content/valid_ds.h5'"
          ]
        }
      ]
    },
    {
      "cell_type": "markdown",
      "metadata": {
        "id": "Xy0iff_XFEsx",
        "colab_type": "text"
      },
      "source": [
        "# Homework 3\n",
        "## Point Cloud MNIST with DeepSet\n"
      ]
    },
    {
      "cell_type": "markdown",
      "metadata": {
        "id": "lqYpFOe2FEsy",
        "colab_type": "text"
      },
      "source": [
        "below you have a custom dataloader for the point-cloud MNIST dataset,\n",
        "\n",
        "the training and validation datasets are linked from the course website"
      ]
    },
    {
      "cell_type": "code",
      "metadata": {
        "id": "xGcolM_3FEsz",
        "colab_type": "code",
        "colab": {}
      },
      "source": [
        "class CustomDataset(Dataset):\n",
        "    def __init__(self, path):\n",
        "        \n",
        "\n",
        "        \n",
        "        self.df = pd.read_hdf(path)\n",
        "        \n",
        "        self.label = torch.LongTensor(self.df.label)\n",
        "        \n",
        "        self.n_points = self.df.n_points\n",
        "        \n",
        "        \n",
        "    def __len__(self):\n",
        "       \n",
        "        return len(self.label)\n",
        "\n",
        "\n",
        "    def __getitem__(self, idx):\n",
        "        \n",
        "    \n",
        "        return torch.FloatTensor(self.df.iloc[idx].xy), self.label[idx]"
      ],
      "execution_count": null,
      "outputs": []
    },
    {
      "cell_type": "code",
      "metadata": {
        "id": "yonjFSthFEs5",
        "colab_type": "code",
        "colab": {
          "base_uri": "https://localhost:8080/",
          "height": 849
        },
        "outputId": "07d7850b-7b0c-4d5c-bdd1-5164b0fcc04a"
      },
      "source": [
        "ds = CustomDataset('/content/training_ds.h5')"
      ],
      "execution_count": null,
      "outputs": [
        {
          "output_type": "error",
          "ename": "OSError",
          "evalue": "ignored",
          "traceback": [
            "\u001b[0;31m---------------------------------------------------------------------------\u001b[0m",
            "\u001b[0;31mHDF5ExtError\u001b[0m                              Traceback (most recent call last)",
            "\u001b[0;32m/usr/local/lib/python3.6/dist-packages/pandas/io/pytables.py\u001b[0m in \u001b[0;36mopen\u001b[0;34m(self, mode, **kwargs)\u001b[0m\n\u001b[1;32m    654\u001b[0m         \u001b[0;32mtry\u001b[0m\u001b[0;34m:\u001b[0m\u001b[0;34m\u001b[0m\u001b[0;34m\u001b[0m\u001b[0m\n\u001b[0;32m--> 655\u001b[0;31m             \u001b[0mself\u001b[0m\u001b[0;34m.\u001b[0m\u001b[0m_handle\u001b[0m \u001b[0;34m=\u001b[0m \u001b[0mtables\u001b[0m\u001b[0;34m.\u001b[0m\u001b[0mopen_file\u001b[0m\u001b[0;34m(\u001b[0m\u001b[0mself\u001b[0m\u001b[0;34m.\u001b[0m\u001b[0m_path\u001b[0m\u001b[0;34m,\u001b[0m \u001b[0mself\u001b[0m\u001b[0;34m.\u001b[0m\u001b[0m_mode\u001b[0m\u001b[0;34m,\u001b[0m \u001b[0;34m**\u001b[0m\u001b[0mkwargs\u001b[0m\u001b[0;34m)\u001b[0m\u001b[0;34m\u001b[0m\u001b[0;34m\u001b[0m\u001b[0m\n\u001b[0m\u001b[1;32m    656\u001b[0m         \u001b[0;32mexcept\u001b[0m \u001b[0mIOError\u001b[0m \u001b[0;32mas\u001b[0m \u001b[0merr\u001b[0m\u001b[0;34m:\u001b[0m  \u001b[0;31m# pragma: no cover\u001b[0m\u001b[0;34m\u001b[0m\u001b[0;34m\u001b[0m\u001b[0m\n",
            "\u001b[0;32m/usr/local/lib/python3.6/dist-packages/tables/file.py\u001b[0m in \u001b[0;36mopen_file\u001b[0;34m(filename, mode, title, root_uep, filters, **kwargs)\u001b[0m\n\u001b[1;32m    319\u001b[0m     \u001b[0;31m# Finally, create the File instance, and return it\u001b[0m\u001b[0;34m\u001b[0m\u001b[0;34m\u001b[0m\u001b[0;34m\u001b[0m\u001b[0m\n\u001b[0;32m--> 320\u001b[0;31m     \u001b[0;32mreturn\u001b[0m \u001b[0mFile\u001b[0m\u001b[0;34m(\u001b[0m\u001b[0mfilename\u001b[0m\u001b[0;34m,\u001b[0m \u001b[0mmode\u001b[0m\u001b[0;34m,\u001b[0m \u001b[0mtitle\u001b[0m\u001b[0;34m,\u001b[0m \u001b[0mroot_uep\u001b[0m\u001b[0;34m,\u001b[0m \u001b[0mfilters\u001b[0m\u001b[0;34m,\u001b[0m \u001b[0;34m**\u001b[0m\u001b[0mkwargs\u001b[0m\u001b[0;34m)\u001b[0m\u001b[0;34m\u001b[0m\u001b[0;34m\u001b[0m\u001b[0m\n\u001b[0m\u001b[1;32m    321\u001b[0m \u001b[0;34m\u001b[0m\u001b[0m\n",
            "\u001b[0;32m/usr/local/lib/python3.6/dist-packages/tables/file.py\u001b[0m in \u001b[0;36m__init__\u001b[0;34m(self, filename, mode, title, root_uep, filters, **kwargs)\u001b[0m\n\u001b[1;32m    783\u001b[0m         \u001b[0;31m# Now, it is time to initialize the File extension\u001b[0m\u001b[0;34m\u001b[0m\u001b[0;34m\u001b[0m\u001b[0;34m\u001b[0m\u001b[0m\n\u001b[0;32m--> 784\u001b[0;31m         \u001b[0mself\u001b[0m\u001b[0;34m.\u001b[0m\u001b[0m_g_new\u001b[0m\u001b[0;34m(\u001b[0m\u001b[0mfilename\u001b[0m\u001b[0;34m,\u001b[0m \u001b[0mmode\u001b[0m\u001b[0;34m,\u001b[0m \u001b[0;34m**\u001b[0m\u001b[0mparams\u001b[0m\u001b[0;34m)\u001b[0m\u001b[0;34m\u001b[0m\u001b[0;34m\u001b[0m\u001b[0m\n\u001b[0m\u001b[1;32m    785\u001b[0m \u001b[0;34m\u001b[0m\u001b[0m\n",
            "\u001b[0;32mtables/hdf5extension.pyx\u001b[0m in \u001b[0;36mtables.hdf5extension.File._g_new\u001b[0;34m()\u001b[0m\n",
            "\u001b[0;31mHDF5ExtError\u001b[0m: HDF5 error back trace\n\n  File \"H5F.c\", line 604, in H5Fopen\n    unable to open file\n  File \"H5Fint.c\", line 1087, in H5F_open\n    unable to read superblock\n  File \"H5Fsuper.c\", line 277, in H5F_super_read\n    file signature not found\n\nEnd of HDF5 error back trace\n\nUnable to open/create file '/content/training_ds.h5'",
            "\nDuring handling of the above exception, another exception occurred:\n",
            "\u001b[0;31mOSError\u001b[0m                                   Traceback (most recent call last)",
            "\u001b[0;32m<ipython-input-8-382f9b607d0f>\u001b[0m in \u001b[0;36m<module>\u001b[0;34m()\u001b[0m\n\u001b[0;32m----> 1\u001b[0;31m \u001b[0mds\u001b[0m \u001b[0;34m=\u001b[0m \u001b[0mCustomDataset\u001b[0m\u001b[0;34m(\u001b[0m\u001b[0;34m'/content/training_ds.h5'\u001b[0m\u001b[0;34m)\u001b[0m\u001b[0;34m\u001b[0m\u001b[0;34m\u001b[0m\u001b[0m\n\u001b[0m",
            "\u001b[0;32m<ipython-input-6-675ba00c52f7>\u001b[0m in \u001b[0;36m__init__\u001b[0;34m(self, path)\u001b[0m\n\u001b[1;32m      4\u001b[0m \u001b[0;34m\u001b[0m\u001b[0m\n\u001b[1;32m      5\u001b[0m \u001b[0;34m\u001b[0m\u001b[0m\n\u001b[0;32m----> 6\u001b[0;31m         \u001b[0mself\u001b[0m\u001b[0;34m.\u001b[0m\u001b[0mdf\u001b[0m \u001b[0;34m=\u001b[0m \u001b[0mpd\u001b[0m\u001b[0;34m.\u001b[0m\u001b[0mread_hdf\u001b[0m\u001b[0;34m(\u001b[0m\u001b[0mpath\u001b[0m\u001b[0;34m)\u001b[0m\u001b[0;34m\u001b[0m\u001b[0;34m\u001b[0m\u001b[0m\n\u001b[0m\u001b[1;32m      7\u001b[0m \u001b[0;34m\u001b[0m\u001b[0m\n\u001b[1;32m      8\u001b[0m         \u001b[0mself\u001b[0m\u001b[0;34m.\u001b[0m\u001b[0mlabel\u001b[0m \u001b[0;34m=\u001b[0m \u001b[0mtorch\u001b[0m\u001b[0;34m.\u001b[0m\u001b[0mLongTensor\u001b[0m\u001b[0;34m(\u001b[0m\u001b[0mself\u001b[0m\u001b[0;34m.\u001b[0m\u001b[0mdf\u001b[0m\u001b[0;34m.\u001b[0m\u001b[0mlabel\u001b[0m\u001b[0;34m)\u001b[0m\u001b[0;34m\u001b[0m\u001b[0;34m\u001b[0m\u001b[0m\n",
            "\u001b[0;32m/usr/local/lib/python3.6/dist-packages/pandas/io/pytables.py\u001b[0m in \u001b[0;36mread_hdf\u001b[0;34m(path_or_buf, key, mode, errors, where, start, stop, columns, iterator, chunksize, **kwargs)\u001b[0m\n\u001b[1;32m    395\u001b[0m             \u001b[0;32mraise\u001b[0m \u001b[0mFileNotFoundError\u001b[0m\u001b[0;34m(\u001b[0m\u001b[0;34mf\"File {path_or_buf} does not exist\"\u001b[0m\u001b[0;34m)\u001b[0m\u001b[0;34m\u001b[0m\u001b[0;34m\u001b[0m\u001b[0m\n\u001b[1;32m    396\u001b[0m \u001b[0;34m\u001b[0m\u001b[0m\n\u001b[0;32m--> 397\u001b[0;31m         \u001b[0mstore\u001b[0m \u001b[0;34m=\u001b[0m \u001b[0mHDFStore\u001b[0m\u001b[0;34m(\u001b[0m\u001b[0mpath_or_buf\u001b[0m\u001b[0;34m,\u001b[0m \u001b[0mmode\u001b[0m\u001b[0;34m=\u001b[0m\u001b[0mmode\u001b[0m\u001b[0;34m,\u001b[0m \u001b[0merrors\u001b[0m\u001b[0;34m=\u001b[0m\u001b[0merrors\u001b[0m\u001b[0;34m,\u001b[0m \u001b[0;34m**\u001b[0m\u001b[0mkwargs\u001b[0m\u001b[0;34m)\u001b[0m\u001b[0;34m\u001b[0m\u001b[0;34m\u001b[0m\u001b[0m\n\u001b[0m\u001b[1;32m    398\u001b[0m         \u001b[0;31m# can't auto open/close if we are using an iterator\u001b[0m\u001b[0;34m\u001b[0m\u001b[0;34m\u001b[0m\u001b[0;34m\u001b[0m\u001b[0m\n\u001b[1;32m    399\u001b[0m         \u001b[0;31m# so delegate to the iterator\u001b[0m\u001b[0;34m\u001b[0m\u001b[0;34m\u001b[0m\u001b[0;34m\u001b[0m\u001b[0m\n",
            "\u001b[0;32m/usr/local/lib/python3.6/dist-packages/pandas/io/pytables.py\u001b[0m in \u001b[0;36m__init__\u001b[0;34m(self, path, mode, complevel, complib, fletcher32, **kwargs)\u001b[0m\n\u001b[1;32m    535\u001b[0m         \u001b[0mself\u001b[0m\u001b[0;34m.\u001b[0m\u001b[0m_fletcher32\u001b[0m \u001b[0;34m=\u001b[0m \u001b[0mfletcher32\u001b[0m\u001b[0;34m\u001b[0m\u001b[0;34m\u001b[0m\u001b[0m\n\u001b[1;32m    536\u001b[0m         \u001b[0mself\u001b[0m\u001b[0;34m.\u001b[0m\u001b[0m_filters\u001b[0m \u001b[0;34m=\u001b[0m \u001b[0;32mNone\u001b[0m\u001b[0;34m\u001b[0m\u001b[0;34m\u001b[0m\u001b[0m\n\u001b[0;32m--> 537\u001b[0;31m         \u001b[0mself\u001b[0m\u001b[0;34m.\u001b[0m\u001b[0mopen\u001b[0m\u001b[0;34m(\u001b[0m\u001b[0mmode\u001b[0m\u001b[0;34m=\u001b[0m\u001b[0mmode\u001b[0m\u001b[0;34m,\u001b[0m \u001b[0;34m**\u001b[0m\u001b[0mkwargs\u001b[0m\u001b[0;34m)\u001b[0m\u001b[0;34m\u001b[0m\u001b[0;34m\u001b[0m\u001b[0m\n\u001b[0m\u001b[1;32m    538\u001b[0m \u001b[0;34m\u001b[0m\u001b[0m\n\u001b[1;32m    539\u001b[0m     \u001b[0;32mdef\u001b[0m \u001b[0m__fspath__\u001b[0m\u001b[0;34m(\u001b[0m\u001b[0mself\u001b[0m\u001b[0;34m)\u001b[0m\u001b[0;34m:\u001b[0m\u001b[0;34m\u001b[0m\u001b[0;34m\u001b[0m\u001b[0m\n",
            "\u001b[0;32m/usr/local/lib/python3.6/dist-packages/pandas/io/pytables.py\u001b[0m in \u001b[0;36mopen\u001b[0;34m(self, mode, **kwargs)\u001b[0m\n\u001b[1;32m    685\u001b[0m             \u001b[0;31m# is not part of IOError, make it one\u001b[0m\u001b[0;34m\u001b[0m\u001b[0;34m\u001b[0m\u001b[0;34m\u001b[0m\u001b[0m\n\u001b[1;32m    686\u001b[0m             \u001b[0;32mif\u001b[0m \u001b[0mself\u001b[0m\u001b[0;34m.\u001b[0m\u001b[0m_mode\u001b[0m \u001b[0;34m==\u001b[0m \u001b[0;34m\"r\"\u001b[0m \u001b[0;32mand\u001b[0m \u001b[0;34m\"Unable to open/create file\"\u001b[0m \u001b[0;32min\u001b[0m \u001b[0mstr\u001b[0m\u001b[0;34m(\u001b[0m\u001b[0merr\u001b[0m\u001b[0;34m)\u001b[0m\u001b[0;34m:\u001b[0m\u001b[0;34m\u001b[0m\u001b[0;34m\u001b[0m\u001b[0m\n\u001b[0;32m--> 687\u001b[0;31m                 \u001b[0;32mraise\u001b[0m \u001b[0mIOError\u001b[0m\u001b[0;34m(\u001b[0m\u001b[0mstr\u001b[0m\u001b[0;34m(\u001b[0m\u001b[0merr\u001b[0m\u001b[0;34m)\u001b[0m\u001b[0;34m)\u001b[0m\u001b[0;34m\u001b[0m\u001b[0;34m\u001b[0m\u001b[0m\n\u001b[0m\u001b[1;32m    688\u001b[0m             \u001b[0;32mraise\u001b[0m\u001b[0;34m\u001b[0m\u001b[0;34m\u001b[0m\u001b[0m\n\u001b[1;32m    689\u001b[0m \u001b[0;34m\u001b[0m\u001b[0m\n",
            "\u001b[0;31mOSError\u001b[0m: HDF5 error back trace\n\n  File \"H5F.c\", line 604, in H5Fopen\n    unable to open file\n  File \"H5Fint.c\", line 1087, in H5F_open\n    unable to read superblock\n  File \"H5Fsuper.c\", line 277, in H5F_super_read\n    file signature not found\n\nEnd of HDF5 error back trace\n\nUnable to open/create file '/content/training_ds.h5'"
          ]
        }
      ]
    },
    {
      "cell_type": "markdown",
      "metadata": {
        "id": "inBZp9PLFEs9",
        "colab_type": "text"
      },
      "source": [
        "#### the data is exactly like the MNIST dataset, except that instead of a 28x28 image,\n",
        "#### you get a (N x 2) array of points (different number of points for each item in the dataset) "
      ]
    },
    {
      "cell_type": "code",
      "metadata": {
        "id": "hmsnIHA8FEs9",
        "colab_type": "code",
        "colab": {},
        "outputId": "ce610e9b-9aa6-4d28-be3d-090b926f416b"
      },
      "source": [
        "fig,ax = plt.subplots(figsize=(5,5))\n",
        "\n",
        "xy = ds[445][0]\n",
        "\n",
        "ax.scatter( xy[:,0],xy[:,1] )\n",
        "\n",
        "ax.set_axis_off()\n",
        "\n",
        "plt.show()"
      ],
      "execution_count": null,
      "outputs": [
        {
          "output_type": "display_data",
          "data": {
            "image/png": "[encoded data removed]",
            "text/plain": [
              "<Figure size 360x360 with 1 Axes>"
            ]
          },
          "metadata": {
            "tags": [],
            "needs_background": "light"
          }
        }
      ]
    },
    {
      "cell_type": "markdown",
      "metadata": {
        "id": "OkAv1HxkFEtB",
        "colab_type": "text"
      },
      "source": [
        "### the dataset object has a n_points variable that tells us how many points in each item"
      ]
    },
    {
      "cell_type": "code",
      "metadata": {
        "id": "_chwDlsAFEtC",
        "colab_type": "code",
        "colab": {},
        "outputId": "65b9155d-e1c4-4d76-e26f-cc11fb67ff26"
      },
      "source": [
        "ds.n_points"
      ],
      "execution_count": null,
      "outputs": [
        {
          "output_type": "execute_result",
          "data": {
            "text/plain": [
              "0       117\n",
              "1       130\n",
              "2        88\n",
              "3        70\n",
              "4        97\n",
              "       ... \n",
              "9995    120\n",
              "9996    111\n",
              "9997    114\n",
              "9998     81\n",
              "9999     88\n",
              "Name: n_points, Length: 10000, dtype: object"
            ]
          },
          "metadata": {
            "tags": []
          },
          "execution_count": 6
        }
      ]
    },
    {
      "cell_type": "code",
      "metadata": {
        "id": "aiFbrnWEFEtF",
        "colab_type": "code",
        "colab": {},
        "outputId": "0b94b021-2efa-4317-b381-46eb2d4d4663"
      },
      "source": [
        "plt.hist(ds.n_points,np.linspace(19.5,260.5,242))\n",
        "plt.show()"
      ],
      "execution_count": null,
      "outputs": [
        {
          "output_type": "display_data",
          "data": {
            "image/png": "[encoded data removed]",
            "text/plain": [
              "<Figure size 432x288 with 1 Axes>"
            ]
          },
          "metadata": {
            "tags": [],
            "needs_background": "light"
          }
        }
      ]
    },
    {
      "cell_type": "markdown",
      "metadata": {
        "id": "o5lmzvzwFEtM",
        "colab_type": "text"
      },
      "source": [
        "## One way to deal with this variable size is to use a custom Batch Sampler\n",
        "\n",
        "https://pytorch.org/docs/stable/data.html\n",
        "\n",
        "This object will tell our dataloader which item indices to request for the batches - \n",
        "and we can \"rig\" it to return batches where all the items have the same N, and therefore we can stack them without a custom colate function"
      ]
    },
    {
      "cell_type": "code",
      "metadata": {
        "id": "JalLewdIFEtM",
        "colab_type": "code",
        "colab": {}
      },
      "source": [
        "class CustomBatchSampler(Sampler):\n",
        "    def __init__(self, points_per_entry, batch_size):\n",
        "        \n",
        "        self.batch_size = batch_size\n",
        "        self.N_per_entry = points_per_entry\n",
        "        self.batches = {}\n",
        "        \n",
        "    def generate_batches(self):\n",
        "        \n",
        "        self.entries_with_N = {}\n",
        "        running_idx = -1\n",
        "\n",
        "        for N in set(self.N_per_entry):\n",
        "            \n",
        "            self.entries_with_N[N] = np.where(self.N_per_entry == N)[0]\n",
        "\n",
        "            how_many = len(self.entries_with_N[N])\n",
        "            n_batches = np.amax([ how_many / self.batch_size, 1])\n",
        "\n",
        "            self.entries_with_N[N] = np.array_split(np.random.permutation(self.entries_with_N[N]),\n",
        "                                                           n_batches)\n",
        "            for batch in self.entries_with_N[N]:\n",
        "                running_idx += 1\n",
        "                self.batches[running_idx] = batch\n",
        "\n",
        "        self.n_batches = running_idx + 1\n",
        "\n",
        "    def __len__(self):\n",
        "        return self.n_batches\n",
        "\n",
        "    def __iter__(self):\n",
        "        \n",
        "        self.generate_batches()\n",
        "        \n",
        "        batch_order = np.random.permutation(np.arange(self.n_batches))\n",
        "        for i in batch_order:\n",
        "            yield self.batches[i]"
      ],
      "execution_count": null,
      "outputs": []
    },
    {
      "cell_type": "code",
      "metadata": {
        "id": "QRAai43WFEtP",
        "colab_type": "code",
        "colab": {}
      },
      "source": [
        "batch_size = 50\n",
        "batch_sampler = CustomBatchSampler(ds.n_points, batch_size)\n",
        "data_loader = DataLoader(ds, batch_sampler=batch_sampler)"
      ],
      "execution_count": null,
      "outputs": []
    },
    {
      "cell_type": "code",
      "metadata": {
        "id": "bmthJHPOFEtS",
        "colab_type": "code",
        "colab": {},
        "outputId": "2efe6a9e-6206-46fb-d41a-79e9ef168cbe"
      },
      "source": [
        "for epoch in range(3):\n",
        "    for x,y in data_loader:\n",
        "        print(x.shape)\n",
        "    break"
      ],
      "execution_count": null,
      "outputs": [
        {
          "output_type": "stream",
          "text": [
            "torch.Size([3, 227, 2])\n",
            "torch.Size([39, 166, 2])\n",
            "torch.Size([59, 102, 2])\n",
            "torch.Size([1, 29, 2])\n",
            "torch.Size([30, 53, 2])\n",
            "torch.Size([2, 27, 2])\n",
            "torch.Size([18, 188, 2])\n",
            "torch.Size([21, 179, 2])\n",
            "torch.Size([31, 52, 2])\n",
            "torch.Size([81, 125, 2])\n",
            "torch.Size([6, 193, 2])\n",
            "torch.Size([53, 139, 2])\n",
            "torch.Size([51, 121, 2])\n",
            "torch.Size([36, 158, 2])\n",
            "torch.Size([12, 189, 2])\n",
            "torch.Size([4, 212, 2])\n",
            "torch.Size([1, 226, 2])\n",
            "torch.Size([11, 183, 2])\n",
            "torch.Size([13, 39, 2])\n",
            "torch.Size([55, 112, 2])\n",
            "torch.Size([55, 90, 2])\n",
            "torch.Size([52, 78, 2])\n",
            "torch.Size([5, 36, 2])\n",
            "torch.Size([49, 157, 2])\n",
            "torch.Size([48, 155, 2])\n",
            "torch.Size([40, 59, 2])\n",
            "torch.Size([36, 161, 2])\n",
            "torch.Size([30, 175, 2])\n",
            "torch.Size([62, 107, 2])\n",
            "torch.Size([52, 123, 2])\n",
            "torch.Size([57, 108, 2])\n",
            "torch.Size([59, 102, 2])\n",
            "torch.Size([27, 173, 2])\n",
            "torch.Size([54, 64, 2])\n",
            "torch.Size([2, 245, 2])\n",
            "torch.Size([57, 116, 2])\n",
            "torch.Size([53, 111, 2])\n",
            "torch.Size([51, 87, 2])\n",
            "torch.Size([42, 61, 2])\n",
            "torch.Size([96, 81, 2])\n",
            "torch.Size([52, 123, 2])\n",
            "torch.Size([4, 213, 2])\n",
            "torch.Size([16, 40, 2])\n",
            "torch.Size([90, 80, 2])\n",
            "torch.Size([51, 87, 2])\n",
            "torch.Size([56, 113, 2])\n",
            "torch.Size([63, 104, 2])\n",
            "torch.Size([1, 229, 2])\n",
            "torch.Size([66, 70, 2])\n",
            "torch.Size([54, 96, 2])\n",
            "torch.Size([23, 48, 2])\n",
            "torch.Size([52, 93, 2])\n",
            "torch.Size([51, 121, 2])\n",
            "torch.Size([73, 73, 2])\n",
            "torch.Size([17, 186, 2])\n",
            "torch.Size([8, 194, 2])\n",
            "torch.Size([58, 95, 2])\n",
            "torch.Size([90, 127, 2])\n",
            "torch.Size([4, 202, 2])\n",
            "torch.Size([39, 58, 2])\n",
            "torch.Size([55, 90, 2])\n",
            "torch.Size([35, 164, 2])\n",
            "torch.Size([53, 94, 2])\n",
            "torch.Size([23, 45, 2])\n",
            "torch.Size([51, 77, 2])\n",
            "torch.Size([54, 94, 2])\n",
            "torch.Size([45, 65, 2])\n",
            "torch.Size([3, 33, 2])\n",
            "torch.Size([54, 124, 2])\n",
            "torch.Size([7, 220, 2])\n",
            "torch.Size([53, 118, 2])\n",
            "torch.Size([60, 86, 2])\n",
            "torch.Size([86, 128, 2])\n",
            "torch.Size([52, 78, 2])\n",
            "torch.Size([75, 66, 2])\n",
            "torch.Size([67, 137, 2])\n",
            "torch.Size([59, 106, 2])\n",
            "torch.Size([56, 112, 2])\n",
            "torch.Size([33, 55, 2])\n",
            "torch.Size([57, 110, 2])\n",
            "torch.Size([30, 168, 2])\n",
            "torch.Size([4, 218, 2])\n",
            "torch.Size([60, 138, 2])\n",
            "torch.Size([41, 159, 2])\n",
            "torch.Size([52, 105, 2])\n",
            "torch.Size([54, 96, 2])\n",
            "torch.Size([4, 208, 2])\n",
            "torch.Size([12, 200, 2])\n",
            "torch.Size([53, 151, 2])\n",
            "torch.Size([3, 35, 2])\n",
            "torch.Size([57, 101, 2])\n",
            "torch.Size([8, 41, 2])\n",
            "torch.Size([54, 91, 2])\n",
            "torch.Size([53, 105, 2])\n",
            "torch.Size([35, 163, 2])\n",
            "torch.Size([59, 106, 2])\n",
            "torch.Size([50, 117, 2])\n",
            "torch.Size([12, 43, 2])\n",
            "torch.Size([75, 69, 2])\n",
            "torch.Size([58, 152, 2])\n",
            "torch.Size([53, 60, 2])\n",
            "torch.Size([64, 109, 2])\n",
            "torch.Size([75, 136, 2])\n",
            "torch.Size([64, 145, 2])\n",
            "torch.Size([49, 149, 2])\n",
            "torch.Size([95, 130, 2])\n",
            "torch.Size([98, 92, 2])\n",
            "torch.Size([11, 197, 2])\n",
            "torch.Size([92, 120, 2])\n",
            "torch.Size([3, 28, 2])\n",
            "torch.Size([78, 132, 2])\n",
            "torch.Size([84, 131, 2])\n",
            "torch.Size([25, 46, 2])\n",
            "torch.Size([47, 135, 2])\n",
            "torch.Size([58, 110, 2])\n",
            "torch.Size([55, 88, 2])\n",
            "torch.Size([54, 124, 2])\n",
            "torch.Size([35, 169, 2])\n",
            "torch.Size([55, 154, 2])\n",
            "torch.Size([58, 100, 2])\n",
            "torch.Size([94, 84, 2])\n",
            "torch.Size([63, 104, 2])\n",
            "torch.Size([89, 114, 2])\n",
            "torch.Size([51, 93, 2])\n",
            "torch.Size([1, 243, 2])\n",
            "torch.Size([52, 119, 2])\n",
            "torch.Size([78, 140, 2])\n",
            "torch.Size([33, 162, 2])\n",
            "torch.Size([8, 199, 2])\n",
            "torch.Size([4, 206, 2])\n",
            "torch.Size([2, 207, 2])\n",
            "torch.Size([53, 150, 2])\n",
            "torch.Size([14, 184, 2])\n",
            "torch.Size([19, 185, 2])\n",
            "torch.Size([81, 82, 2])\n",
            "torch.Size([7, 34, 2])\n",
            "torch.Size([1, 225, 2])\n",
            "torch.Size([72, 143, 2])\n",
            "torch.Size([60, 86, 2])\n",
            "torch.Size([18, 191, 2])\n",
            "torch.Size([8, 195, 2])\n",
            "torch.Size([63, 109, 2])\n",
            "torch.Size([45, 56, 2])\n",
            "torch.Size([2, 31, 2])\n",
            "torch.Size([5, 203, 2])\n",
            "torch.Size([4, 217, 2])\n",
            "torch.Size([30, 167, 2])\n",
            "torch.Size([80, 72, 2])\n",
            "torch.Size([81, 122, 2])\n",
            "torch.Size([84, 76, 2])\n",
            "torch.Size([1, 241, 2])\n",
            "torch.Size([58, 101, 2])\n",
            "torch.Size([2, 239, 2])\n",
            "torch.Size([3, 210, 2])\n",
            "torch.Size([36, 160, 2])\n",
            "torch.Size([55, 88, 2])\n",
            "torch.Size([92, 126, 2])\n",
            "torch.Size([58, 95, 2])\n",
            "torch.Size([25, 172, 2])\n",
            "torch.Size([82, 129, 2])\n",
            "torch.Size([15, 187, 2])\n",
            "torch.Size([46, 63, 2])\n",
            "torch.Size([33, 170, 2])\n",
            "torch.Size([54, 91, 2])\n",
            "torch.Size([5, 209, 2])\n",
            "torch.Size([53, 99, 2])\n",
            "torch.Size([9, 198, 2])\n",
            "torch.Size([8, 196, 2])\n",
            "torch.Size([3, 233, 2])\n",
            "torch.Size([62, 146, 2])\n",
            "torch.Size([2, 223, 2])\n",
            "torch.Size([7, 201, 2])\n",
            "torch.Size([24, 180, 2])\n",
            "torch.Size([23, 176, 2])\n",
            "torch.Size([1, 25, 2])\n",
            "torch.Size([93, 85, 2])\n",
            "torch.Size([1, 228, 2])\n",
            "torch.Size([20, 174, 2])\n",
            "torch.Size([71, 148, 2])\n",
            "torch.Size([53, 99, 2])\n",
            "torch.Size([52, 119, 2])\n",
            "torch.Size([1, 249, 2])\n",
            "torch.Size([84, 74, 2])\n",
            "torch.Size([96, 89, 2])\n",
            "torch.Size([96, 103, 2])\n",
            "torch.Size([1, 26, 2])\n",
            "torch.Size([37, 171, 2])\n",
            "torch.Size([57, 116, 2])\n",
            "torch.Size([73, 67, 2])\n",
            "torch.Size([68, 62, 2])\n",
            "torch.Size([1, 30, 2])\n",
            "torch.Size([1, 242, 2])\n",
            "torch.Size([81, 75, 2])\n",
            "torch.Size([76, 133, 2])\n",
            "torch.Size([27, 165, 2])\n",
            "torch.Size([3, 221, 2])\n",
            "torch.Size([66, 142, 2])\n",
            "torch.Size([63, 68, 2])\n",
            "torch.Size([98, 97, 2])\n",
            "torch.Size([1, 247, 2])\n",
            "torch.Size([63, 107, 2])\n",
            "torch.Size([28, 177, 2])\n",
            "torch.Size([82, 83, 2])\n",
            "torch.Size([4, 37, 2])\n",
            "torch.Size([77, 98, 2])\n",
            "torch.Size([3, 219, 2])\n",
            "torch.Size([51, 77, 2])\n",
            "torch.Size([63, 147, 2])\n",
            "torch.Size([35, 57, 2])\n",
            "torch.Size([55, 153, 2])\n",
            "torch.Size([97, 79, 2])\n",
            "torch.Size([16, 44, 2])\n",
            "torch.Size([55, 144, 2])\n",
            "torch.Size([78, 71, 2])\n",
            "torch.Size([6, 205, 2])\n",
            "torch.Size([12, 181, 2])\n",
            "torch.Size([2, 211, 2])\n",
            "torch.Size([1, 280, 2])\n",
            "torch.Size([92, 134, 2])\n",
            "torch.Size([21, 47, 2])\n",
            "torch.Size([4, 204, 2])\n",
            "torch.Size([59, 141, 2])\n",
            "torch.Size([50, 156, 2])\n",
            "torch.Size([1, 236, 2])\n",
            "torch.Size([98, 115, 2])\n",
            "torch.Size([56, 113, 2])\n",
            "torch.Size([52, 118, 2])\n",
            "torch.Size([57, 108, 2])\n",
            "torch.Size([1, 230, 2])\n",
            "torch.Size([23, 178, 2])\n",
            "torch.Size([29, 54, 2])\n",
            "torch.Size([29, 49, 2])\n",
            "torch.Size([10, 192, 2])\n",
            "torch.Size([5, 214, 2])\n",
            "torch.Size([16, 190, 2])\n",
            "torch.Size([2, 216, 2])\n",
            "torch.Size([4, 215, 2])\n",
            "torch.Size([58, 100, 2])\n",
            "torch.Size([26, 51, 2])\n",
            "torch.Size([8, 38, 2])\n",
            "torch.Size([19, 42, 2])\n",
            "torch.Size([53, 111, 2])\n",
            "torch.Size([50, 117, 2])\n",
            "torch.Size([1, 234, 2])\n",
            "torch.Size([14, 182, 2])\n",
            "torch.Size([28, 50, 2])\n"
          ],
          "name": "stdout"
        }
      ]
    },
    {
      "cell_type": "markdown",
      "metadata": {
        "id": "qH9V8XKXFEtV",
        "colab_type": "text"
      },
      "source": [
        "## Building a DeepSet model\n",
        "\n",
        "you only have three components - a fully connected network that creates the node embedding, a sum operation, and a classifier"
      ]
    },
    {
      "cell_type": "code",
      "metadata": {
        "id": "WYPp1NTyFEtV",
        "colab_type": "code",
        "colab": {},
        "outputId": "dba380ee-0dc5-4e7d-a4c7-11687e6a1ea4"
      },
      "source": [
        "# the linear layer operates on the last dimension:\n",
        "\n",
        "linear_layer = nn.Linear(10,5)\n",
        "\n",
        "linear_layer(  torch.rand((345,10)) ).shape, linear_layer(  torch.rand((345,76,10)) ).shape"
      ],
      "execution_count": null,
      "outputs": [
        {
          "output_type": "execute_result",
          "data": {
            "text/plain": [
              "(torch.Size([345, 5]), torch.Size([345, 76, 5]))"
            ]
          },
          "metadata": {
            "tags": []
          },
          "execution_count": 19
        }
      ]
    },
    {
      "cell_type": "code",
      "metadata": {
        "id": "7NrQjHLVFEtc",
        "colab_type": "code",
        "colab": {},
        "outputId": "8d2b4520-2c26-4eae-a962-5019b2257796"
      },
      "source": [
        "# for the the mean operation you need to specify the dimension:\n",
        "\n",
        "x = torch.rand((42,15,10))\n",
        "\n",
        "torch.mean(x,dim=1).shape"
      ],
      "execution_count": null,
      "outputs": [
        {
          "output_type": "execute_result",
          "data": {
            "text/plain": [
              "torch.Size([42, 10])"
            ]
          },
          "metadata": {
            "tags": []
          },
          "execution_count": 20
        }
      ]
    },
    {
      "cell_type": "markdown",
      "metadata": {
        "id": "sV1Q7Y5FFEtf",
        "colab_type": "text"
      },
      "source": [
        "## build the model, train, submit when you reach above 75% accuracy on the validation set:"
      ]
    },
    {
      "cell_type": "code",
      "metadata": {
        "id": "ecZ_l1gcFEtg",
        "colab_type": "code",
        "colab": {}
      },
      "source": [
        "class DeepSet(nn.Module):\n",
        "    def __init__(self):\n",
        "        super(DeepSet, self).__init__()\n",
        "\n",
        "\n",
        "    \n",
        "    def forward(self, x):\n",
        "        \n",
        "       \n",
        "        \n",
        "        return ... "
      ],
      "execution_count": null,
      "outputs": []
    },
    {
      "cell_type": "code",
      "metadata": {
        "id": "jYn1B_DoFEti",
        "colab_type": "code",
        "colab": {}
      },
      "source": [
        "net = DeepSet()"
      ],
      "execution_count": null,
      "outputs": []
    },
    {
      "cell_type": "code",
      "metadata": {
        "id": "6oXUu5RbFEtm",
        "colab_type": "code",
        "colab": {}
      },
      "source": [
        ""
      ],
      "execution_count": null,
      "outputs": []
    },
    {
      "cell_type": "code",
      "metadata": {
        "id": "1iuXfbolFEtu",
        "colab_type": "code",
        "colab": {}
      },
      "source": [
        ""
      ],
      "execution_count": null,
      "outputs": []
    },
    {
      "cell_type": "code",
      "metadata": {
        "id": "S4uTIu00FEtx",
        "colab_type": "code",
        "colab": {}
      },
      "source": [
        ""
      ],
      "execution_count": null,
      "outputs": []
    },
    {
      "cell_type": "code",
      "metadata": {
        "id": "XyZRYcivFEt0",
        "colab_type": "code",
        "colab": {}
      },
      "source": [
        "def compute_accuracy(data_loader,net):\n",
        "    \n",
        "    net.eval()\n",
        "    \n",
        "    total_number = 0\n",
        "    total_correct = 0\n",
        "    \n",
        "    for x,y in data_loader:\n",
        "        \n",
        "        prediction = net(x).data.numpy()\n",
        "        \n",
        "        prediction = np.argmax(prediction,axis=1)\n",
        "        \n",
        "        correct = len( np.where(prediction==y.data.numpy())[0] )\n",
        "        \n",
        "        total_correct+=correct\n",
        "        total_number+=x.shape[0]\n",
        "        \n",
        "    return total_correct/float(total_number)"
      ],
      "execution_count": null,
      "outputs": []
    },
    {
      "cell_type": "code",
      "metadata": {
        "id": "F5d7HhWAFEt3",
        "colab_type": "code",
        "colab": {}
      },
      "source": [
        ""
      ],
      "execution_count": null,
      "outputs": []
    },
    {
      "cell_type": "code",
      "metadata": {
        "id": "_xEMZhJcFEt8",
        "colab_type": "code",
        "colab": {}
      },
      "source": [
        "test_ds = CustomDataset('valid_ds.h5')\n",
        "batch_size = 50\n",
        "batch_sampler_test_ds = CustomBatchSampler(test_ds.n_points, batch_size)\n",
        "data_loader_test = DataLoader(test_ds, batch_sampler=batch_sampler_test_ds)\n",
        "\n",
        "compute_accuracy(data_loader_test,net)"
      ],
      "execution_count": null,
      "outputs": []
    },
    {
      "cell_type": "code",
      "metadata": {
        "id": "ncBycGjtFEt-",
        "colab_type": "code",
        "colab": {}
      },
      "source": [
        ""
      ],
      "execution_count": null,
      "outputs": []
    },
    {
      "cell_type": "code",
      "metadata": {
        "id": "71rdrFhsFEuA",
        "colab_type": "code",
        "colab": {}
      },
      "source": [
        ""
      ],
      "execution_count": null,
      "outputs": []
    }
  ]
}